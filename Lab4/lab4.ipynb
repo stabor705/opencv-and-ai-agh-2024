{
 "cells": [
  {
   "cell_type": "code",
   "execution_count": 1,
   "id": "8b266d87-0f9a-4eb7-908e-796dbb6d7850",
   "metadata": {
    "ExecuteTime": {
     "end_time": "2024-12-08T15:02:37.696038Z",
     "start_time": "2024-12-08T15:02:37.674902Z"
    },
    "execution": {
     "iopub.execute_input": "2024-12-11T17:19:11.806641Z",
     "iopub.status.busy": "2024-12-11T17:19:11.806501Z",
     "iopub.status.idle": "2024-12-11T17:19:11.813234Z",
     "shell.execute_reply": "2024-12-11T17:19:11.812794Z",
     "shell.execute_reply.started": "2024-12-11T17:19:11.806627Z"
    }
   },
   "outputs": [
    {
     "data": {
      "text/plain": [
       "[('0001_1_.nii.gz', 105, 137),\n",
       " ('0001_2_.nii.gz', 100, 132),\n",
       " ('0002_1_.nii.gz', 93, 130),\n",
       " ('0002_2_.nii.gz', 87, 123),\n",
       " ('0003_1_.nii.gz', 100, 131),\n",
       " ('0003_2_.nii.gz', 101, 133),\n",
       " ('0004_1_.nii.gz', 169, 200),\n",
       " ('0004_2_.nii.gz', 162, 191),\n",
       " ('0005_1_.nii.gz', 120, 151),\n",
       " ('0006_1_.nii.gz', 183, 214),\n",
       " ('0006_2_.nii.gz', 179, 212),\n",
       " ('0007_1_.nii.gz', 189, 222),\n",
       " ('0007_2_.nii.gz', 108, 145),\n",
       " ('0008_1_.nii.gz', 186, 216),\n",
       " ('0008_2_.nii.gz', 169, 199),\n",
       " ('0009_1_.nii.gz', 183, 219),\n",
       " ('0009_2_.nii.gz', 173, 212),\n",
       " ('0010_1_.nii.gz', 168, 197),\n",
       " ('0010_2_.nii.gz', 104, 134)]"
      ]
     },
     "execution_count": 1,
     "metadata": {},
     "output_type": "execute_result"
    }
   ],
   "source": [
    "samples = []\n",
    "\n",
    "with open('Data/oznaczenia.txt') as fp:\n",
    "    for line in fp.readlines():\n",
    "        [filename, end, start] = line[:-1].split(\"\\t\")\n",
    "        samples.append((filename, int(start), int(end)))\n",
    "\n",
    "samples"
   ]
  },
  {
   "cell_type": "code",
   "execution_count": 2,
   "id": "7941f960-3eba-4db4-8feb-ca385352a28e",
   "metadata": {
    "ExecuteTime": {
     "end_time": "2024-12-08T15:03:33.536939Z",
     "start_time": "2024-12-08T15:02:49.795916Z"
    },
    "execution": {
     "iopub.execute_input": "2024-12-11T17:19:12.764035Z",
     "iopub.status.busy": "2024-12-11T17:19:12.763276Z",
     "iopub.status.idle": "2024-12-11T17:19:24.345172Z",
     "shell.execute_reply": "2024-12-11T17:19:24.344681Z",
     "shell.execute_reply.started": "2024-12-11T17:19:12.763995Z"
    }
   },
   "outputs": [],
   "source": [
    "import torch\n",
    "import nibabel as nib\n",
    "import random\n",
    "\n",
    "slices = []\n",
    "targets = []\n",
    "\n",
    "for filename, start, end in samples:\n",
    "    img = nib.load(f\"Data/{filename}\").get_fdata()\n",
    "    # Positive slices\n",
    "    for depth in range(start, end + 1):\n",
    "        s = img[:, :, depth]\n",
    "        slices.append(torch.tensor(s, dtype=torch.float).unsqueeze(0))\n",
    "        targets.append(1)\n",
    "    negative_indices = list(range(0, start)) + list(range(end, img.shape[2]))\n",
    "    chosen_negative_indices = random.sample(negative_indices, end - start + 1)\n",
    "    for depth in chosen_negative_indices:\n",
    "        s = img[:, :, depth]\n",
    "        slices.append(torch.tensor(s, dtype=torch.float).unsqueeze(0))\n",
    "        targets.append(0)\n",
    "    "
   ]
  },
  {
   "cell_type": "code",
   "execution_count": 3,
   "id": "fa8cd3de-f81a-435b-a995-1ecbff092563",
   "metadata": {
    "ExecuteTime": {
     "end_time": "2024-12-08T15:03:51.333246Z",
     "start_time": "2024-12-08T15:03:50.873677Z"
    },
    "execution": {
     "iopub.execute_input": "2024-12-11T17:19:24.360345Z",
     "iopub.status.busy": "2024-12-11T17:19:24.360223Z",
     "iopub.status.idle": "2024-12-11T17:19:24.675642Z",
     "shell.execute_reply": "2024-12-11T17:19:24.675208Z",
     "shell.execute_reply.started": "2024-12-11T17:19:24.360332Z"
    }
   },
   "outputs": [
    {
     "name": "stdout",
     "output_type": "stream",
     "text": [
      "1020\n",
      "515/1020\n",
      "123/256\n",
      "256\n"
     ]
    }
   ],
   "source": [
    "from sklearn.model_selection import train_test_split\n",
    "\n",
    "X_train, X_test, y_train, y_test = train_test_split(slices, targets, test_size=0.2)\n",
    "print(len(X_train))\n",
    "print(f\"{sum(y_train)}/{len(y_train)}\")\n",
    "print(f\"{sum(y_test)}/{len(y_test)}\")\n",
    "print(len(X_test))"
   ]
  },
  {
   "cell_type": "code",
   "execution_count": 4,
   "id": "f03c836e-2365-4864-8537-d30780dbb400",
   "metadata": {
    "ExecuteTime": {
     "end_time": "2024-12-08T15:04:10.603529Z",
     "start_time": "2024-12-08T15:04:09.634080Z"
    },
    "execution": {
     "iopub.execute_input": "2024-12-11T17:19:24.677135Z",
     "iopub.status.busy": "2024-12-11T17:19:24.676713Z",
     "iopub.status.idle": "2024-12-11T17:19:25.238349Z",
     "shell.execute_reply": "2024-12-11T17:19:25.237861Z",
     "shell.execute_reply.started": "2024-12-11T17:19:24.677118Z"
    }
   },
   "outputs": [],
   "source": [
    "from torch.utils.data import Dataset, DataLoader\n",
    "from torchvision import transforms\n",
    "import numpy as np\n",
    "from typing import List\n",
    "from sklearn.model_selection import train_test_split\n",
    "import torch.nn.functional as F\n",
    "\n",
    "class SlicesDataset:\n",
    "    def __init__(self, slices: torch.tensor, targets: List[bool], transform = None):\n",
    "        self.slices = slices\n",
    "        self.targets = torch.tensor(targets, dtype=torch.int64)\n",
    "        self.transform = transform\n",
    "\n",
    "    def __getitem__(self, idx):\n",
    "        s = self.transform(self.slices[idx]) if self.transform is not None else self.slices[idx]\n",
    "        target = F.one_hot(self.targets[idx], 2).float()\n",
    "        return s, target\n",
    "        \n",
    "    def __len__(self):\n",
    "        return len(self.targets)\n",
    "\n",
    "\n",
    "transform = transforms.Compose([\n",
    "    # bigger\n",
    "    transforms.Resize((64, 64)),\n",
    "    transforms.Normalize(mean=[0.485], std=[0.229]),\n",
    "    transforms.RandomErasing(scale=(0.02, 0.2)),\n",
    "    transforms.RandomHorizontalFlip(),\n",
    "    transforms.RandomAffine((-15, 15), (0.01, 0.1), (0.9, 1.05)),\n",
    "    transforms.RandomPerspective(0.2)\n",
    "])\n",
    "\n",
    "train_dataset = SlicesDataset(X_train, y_train, transform)\n",
    "test_dataset = SlicesDataset(X_test, y_test, transform)\n",
    "\n",
    "# TODO: sampler\n",
    "train_loader = DataLoader(train_dataset, batch_size=128, shuffle=True)\n",
    "test_loader = DataLoader(test_dataset, batch_size=128, shuffle=False)"
   ]
  },
  {
   "cell_type": "code",
   "execution_count": 5,
   "id": "bfceff08-759c-4693-8093-695da324f8d1",
   "metadata": {
    "ExecuteTime": {
     "end_time": "2024-12-08T15:04:11.683127Z",
     "start_time": "2024-12-08T15:04:10.934421Z"
    },
    "execution": {
     "iopub.execute_input": "2024-12-11T17:19:25.239319Z",
     "iopub.status.busy": "2024-12-11T17:19:25.238989Z",
     "iopub.status.idle": "2024-12-11T17:19:25.972289Z",
     "shell.execute_reply": "2024-12-11T17:19:25.971800Z",
     "shell.execute_reply.started": "2024-12-11T17:19:25.239301Z"
    }
   },
   "outputs": [
    {
     "name": "stdout",
     "output_type": "stream",
     "text": [
      "tensor([1., 0.])\n"
     ]
    },
    {
     "data": {
      "text/plain": [
       "<matplotlib.image.AxesImage at 0x7a920df686d0>"
      ]
     },
     "execution_count": 5,
     "metadata": {},
     "output_type": "execute_result"
    },
    {
     "data": {
      "image/png": "[encoded data removed]",
      "text/plain": [
       "<Figure size 432x288 with 1 Axes>"
      ]
     },
     "metadata": {
      "needs_background": "light"
     },
     "output_type": "display_data"
    }
   ],
   "source": [
    "import matplotlib.pyplot as plt\n",
    "\n",
    "s, target = next(iter(train_loader))\n",
    "\n",
    "print(target[0])\n",
    "plt.gray()\n",
    "plt.imshow(s[0][0])"
   ]
  },
  {
   "cell_type": "code",
   "execution_count": 6,
   "id": "4dad8356-96a9-406d-810e-d3e538a9b064",
   "metadata": {
    "execution": {
     "iopub.execute_input": "2024-12-11T17:19:25.973206Z",
     "iopub.status.busy": "2024-12-11T17:19:25.972980Z",
     "iopub.status.idle": "2024-12-11T17:19:27.468845Z",
     "shell.execute_reply": "2024-12-11T17:19:27.468339Z",
     "shell.execute_reply.started": "2024-12-11T17:19:25.973186Z"
    }
   },
   "outputs": [],
   "source": [
    "device = torch.device(\"cuda\" if torch.cuda.is_available() else \"cpu\")"
   ]
  },
  {
   "cell_type": "code",
   "execution_count": 7,
   "id": "d73e3639-f7ab-4d48-b115-14387d714f91",
   "metadata": {
    "execution": {
     "iopub.execute_input": "2024-12-11T17:19:27.469972Z",
     "iopub.status.busy": "2024-12-11T17:19:27.469609Z",
     "iopub.status.idle": "2024-12-11T17:19:27.659264Z",
     "shell.execute_reply": "2024-12-11T17:19:27.658704Z",
     "shell.execute_reply.started": "2024-12-11T17:19:27.469954Z"
    }
   },
   "outputs": [
    {
     "data": {
      "text/plain": [
       "SimpleCNN(\n",
       "  (conv1): Sequential(\n",
       "    (0): Conv2d(1, 32, kernel_size=(3, 3), stride=(1, 1), padding=(1, 1), bias=False)\n",
       "    (1): BatchNorm2d(32, eps=1e-05, momentum=0.1, affine=True, track_running_stats=True)\n",
       "    (2): ReLU(inplace=True)\n",
       "  )\n",
       "  (pool): MaxPool2d(kernel_size=2, stride=2, padding=0, dilation=1, ceil_mode=False)\n",
       "  (fc1): Sequential(\n",
       "    (0): Linear(in_features=32768, out_features=256, bias=True)\n",
       "    (1): ReLU(inplace=True)\n",
       "    (2): Dropout(p=0.2, inplace=False)\n",
       "  )\n",
       "  (fc2): Linear(in_features=256, out_features=2, bias=True)\n",
       ")"
      ]
     },
     "execution_count": 7,
     "metadata": {},
     "output_type": "execute_result"
    }
   ],
   "source": [
    "import torch\n",
    "import torch.nn as nn\n",
    "import torch.nn.functional as F\n",
    "\n",
    "class SimpleCNN(nn.Module):\n",
    "    def __init__(self, num_classes=10):\n",
    "        \"\"\"\n",
    "        Initialize a Convolutional Neural Network with Batch Normalization.\n",
    "        \n",
    "        Args:\n",
    "            num_classes (int): Number of output classes (default: 10 for CIFAR-10)\n",
    "        \"\"\"\n",
    "        super(SimpleCNN, self).__init__()\n",
    "        \n",
    "        # Convolutional layers with batch normalization\n",
    "        self.conv1 = nn.Sequential(\n",
    "            nn.Conv2d(in_channels=1, out_channels=32, kernel_size=3, padding=1, bias=False),\n",
    "            nn.BatchNorm2d(32),\n",
    "            nn.ReLU(inplace=True)\n",
    "        )\n",
    "        \n",
    "        # self.conv2 = nn.Sequential(\n",
    "        #     nn.Conv2d(in_channels=32, out_channels=64, kernel_size=3, padding=1, bias=False),\n",
    "        #     nn.BatchNorm2d(64),\n",
    "        #     nn.ReLU(inplace=True)\n",
    "        # )\n",
    "        \n",
    "        # self.conv3 = nn.Sequential(\n",
    "        #     nn.Conv2d(in_channels=64, out_channels=128, kernel_size=3, padding=1, bias=False),\n",
    "        #     nn.BatchNorm2d(128),\n",
    "        #     nn.ReLU(inplace=True)\n",
    "        # )\n",
    "        \n",
    "        # Pooling layer\n",
    "        self.pool = nn.MaxPool2d(kernel_size=2, stride=2)\n",
    "        \n",
    "        # Fully connected layers\n",
    "        self.fc1 = nn.Sequential(\n",
    "            nn.Linear(32768, 256),\n",
    "            nn.ReLU(inplace=True),\n",
    "            nn.Dropout(0.20)\n",
    "        )\n",
    "        \n",
    "        self.fc2 = nn.Linear(256, num_classes)\n",
    "\n",
    "    \n",
    "    def forward(self, x):\n",
    "        # First convolutional block\n",
    "        x = self.pool(self.conv1(x))\n",
    "        \n",
    "        #Second convolutional block\n",
    "        # x = self.pool(self.conv2(x))\n",
    "        \n",
    "        # Third convolutional block\n",
    "        # x = self.pool(self.conv3(x))\n",
    "        \n",
    "        # Flatten the tensor\n",
    "        x = x.view(x.size(0), -1)\n",
    "\n",
    "        # Fully connected layers with batch norm and dropout\n",
    "        x = self.fc1(x)\n",
    "        x = self.fc2(x)\n",
    "        \n",
    "        return x\n",
    "\n",
    "model = SimpleCNN(2).to(device)\n",
    "model"
   ]
  },
  {
   "cell_type": "code",
   "execution_count": 8,
   "id": "50be932f-0bf6-436e-9cb5-2c902dd91000",
   "metadata": {
    "execution": {
     "iopub.execute_input": "2024-12-11T17:19:29.716655Z",
     "iopub.status.busy": "2024-12-11T17:19:29.716153Z",
     "iopub.status.idle": "2024-12-11T17:20:30.302117Z",
     "shell.execute_reply": "2024-12-11T17:20:30.301662Z",
     "shell.execute_reply.started": "2024-12-11T17:19:29.716630Z"
    },
    "scrolled": true
   },
   "outputs": [
    {
     "name": "stderr",
     "output_type": "stream",
     "text": [
      "Training Epoch: 100%|██████████████████████████████████████████████████████████████████████████████████████████████████████████████████████████████████████| 8/8 [00:01<00:00,  4.19it/s]\n"
     ]
    },
    {
     "name": "stdout",
     "output_type": "stream",
     "text": [
      "Epoch 1/30 - Train Loss: 8.1487, Train Accuracy: 54.41%\n"
     ]
    },
    {
     "name": "stderr",
     "output_type": "stream",
     "text": [
      "Testing: 100%|█████████████████████████████████████████████████████████████████████████████████████████████████████████████████████████████████████████████| 2/2 [00:00<00:00,  5.03it/s]\n"
     ]
    },
    {
     "name": "stdout",
     "output_type": "stream",
     "text": [
      "Epoch 1/30 - Test Loss: 3.0550, Test Accuracy: 54.69%\n"
     ]
    },
    {
     "name": "stderr",
     "output_type": "stream",
     "text": [
      "Training Epoch: 100%|██████████████████████████████████████████████████████████████████████████████████████████████████████████████████████████████████████| 8/8 [00:01<00:00,  4.82it/s]\n"
     ]
    },
    {
     "name": "stdout",
     "output_type": "stream",
     "text": [
      "Epoch 2/30 - Train Loss: 2.5607, Train Accuracy: 62.35%\n"
     ]
    },
    {
     "name": "stderr",
     "output_type": "stream",
     "text": [
      "Testing: 100%|█████████████████████████████████████████████████████████████████████████████████████████████████████████████████████████████████████████████| 2/2 [00:00<00:00,  5.25it/s]\n"
     ]
    },
    {
     "name": "stdout",
     "output_type": "stream",
     "text": [
      "Epoch 2/30 - Test Loss: 0.9202, Test Accuracy: 69.92%\n"
     ]
    },
    {
     "name": "stderr",
     "output_type": "stream",
     "text": [
      "Training Epoch: 100%|██████████████████████████████████████████████████████████████████████████████████████████████████████████████████████████████████████| 8/8 [00:01<00:00,  4.92it/s]\n"
     ]
    },
    {
     "name": "stdout",
     "output_type": "stream",
     "text": [
      "Epoch 3/30 - Train Loss: 1.6899, Train Accuracy: 63.33%\n"
     ]
    },
    {
     "name": "stderr",
     "output_type": "stream",
     "text": [
      "Testing: 100%|█████████████████████████████████████████████████████████████████████████████████████████████████████████████████████████████████████████████| 2/2 [00:00<00:00,  5.31it/s]\n"
     ]
    },
    {
     "name": "stdout",
     "output_type": "stream",
     "text": [
      "Epoch 3/30 - Test Loss: 1.0397, Test Accuracy: 74.22%\n"
     ]
    },
    {
     "name": "stderr",
     "output_type": "stream",
     "text": [
      "Training Epoch: 100%|██████████████████████████████████████████████████████████████████████████████████████████████████████████████████████████████████████| 8/8 [00:01<00:00,  4.70it/s]\n"
     ]
    },
    {
     "name": "stdout",
     "output_type": "stream",
     "text": [
      "Epoch 4/30 - Train Loss: 1.1180, Train Accuracy: 68.63%\n"
     ]
    },
    {
     "name": "stderr",
     "output_type": "stream",
     "text": [
      "Testing: 100%|█████████████████████████████████████████████████████████████████████████████████████████████████████████████████████████████████████████████| 2/2 [00:00<00:00,  5.07it/s]\n"
     ]
    },
    {
     "name": "stdout",
     "output_type": "stream",
     "text": [
      "Epoch 4/30 - Test Loss: 1.3003, Test Accuracy: 69.14%\n"
     ]
    },
    {
     "name": "stderr",
     "output_type": "stream",
     "text": [
      "Training Epoch: 100%|██████████████████████████████████████████████████████████████████████████████████████████████████████████████████████████████████████| 8/8 [00:01<00:00,  4.99it/s]\n"
     ]
    },
    {
     "name": "stdout",
     "output_type": "stream",
     "text": [
      "Epoch 5/30 - Train Loss: 0.6784, Train Accuracy: 73.14%\n"
     ]
    },
    {
     "name": "stderr",
     "output_type": "stream",
     "text": [
      "Testing: 100%|█████████████████████████████████████████████████████████████████████████████████████████████████████████████████████████████████████████████| 2/2 [00:00<00:00,  4.60it/s]\n"
     ]
    },
    {
     "name": "stdout",
     "output_type": "stream",
     "text": [
      "Epoch 5/30 - Test Loss: 0.5599, Test Accuracy: 78.12%\n"
     ]
    },
    {
     "name": "stderr",
     "output_type": "stream",
     "text": [
      "Training Epoch: 100%|██████████████████████████████████████████████████████████████████████████████████████████████████████████████████████████████████████| 8/8 [00:01<00:00,  4.85it/s]\n"
     ]
    },
    {
     "name": "stdout",
     "output_type": "stream",
     "text": [
      "Epoch 6/30 - Train Loss: 0.5105, Train Accuracy: 75.88%\n"
     ]
    },
    {
     "name": "stderr",
     "output_type": "stream",
     "text": [
      "Testing: 100%|█████████████████████████████████████████████████████████████████████████████████████████████████████████████████████████████████████████████| 2/2 [00:00<00:00,  5.29it/s]\n"
     ]
    },
    {
     "name": "stdout",
     "output_type": "stream",
     "text": [
      "Epoch 6/30 - Test Loss: 0.4930, Test Accuracy: 75.78%\n"
     ]
    },
    {
     "name": "stderr",
     "output_type": "stream",
     "text": [
      "Training Epoch: 100%|██████████████████████████████████████████████████████████████████████████████████████████████████████████████████████████████████████| 8/8 [00:01<00:00,  5.09it/s]\n"
     ]
    },
    {
     "name": "stdout",
     "output_type": "stream",
     "text": [
      "Epoch 7/30 - Train Loss: 0.4921, Train Accuracy: 75.59%\n"
     ]
    },
    {
     "name": "stderr",
     "output_type": "stream",
     "text": [
      "Testing: 100%|█████████████████████████████████████████████████████████████████████████████████████████████████████████████████████████████████████████████| 2/2 [00:00<00:00,  5.29it/s]\n"
     ]
    },
    {
     "name": "stdout",
     "output_type": "stream",
     "text": [
      "Epoch 7/30 - Test Loss: 0.4618, Test Accuracy: 78.12%\n"
     ]
    },
    {
     "name": "stderr",
     "output_type": "stream",
     "text": [
      "Training Epoch: 100%|██████████████████████████████████████████████████████████████████████████████████████████████████████████████████████████████████████| 8/8 [00:01<00:00,  5.01it/s]\n"
     ]
    },
    {
     "name": "stdout",
     "output_type": "stream",
     "text": [
      "Epoch 8/30 - Train Loss: 0.4671, Train Accuracy: 77.16%\n"
     ]
    },
    {
     "name": "stderr",
     "output_type": "stream",
     "text": [
      "Testing: 100%|█████████████████████████████████████████████████████████████████████████████████████████████████████████████████████████████████████████████| 2/2 [00:00<00:00,  4.97it/s]\n"
     ]
    },
    {
     "name": "stdout",
     "output_type": "stream",
     "text": [
      "Epoch 8/30 - Test Loss: 0.4882, Test Accuracy: 72.27%\n"
     ]
    },
    {
     "name": "stderr",
     "output_type": "stream",
     "text": [
      "Training Epoch: 100%|██████████████████████████████████████████████████████████████████████████████████████████████████████████████████████████████████████| 8/8 [00:01<00:00,  5.01it/s]\n"
     ]
    },
    {
     "name": "stdout",
     "output_type": "stream",
     "text": [
      "Epoch 9/30 - Train Loss: 0.4693, Train Accuracy: 76.57%\n"
     ]
    },
    {
     "name": "stderr",
     "output_type": "stream",
     "text": [
      "Testing: 100%|█████████████████████████████████████████████████████████████████████████████████████████████████████████████████████████████████████████████| 2/2 [00:00<00:00,  5.41it/s]\n"
     ]
    },
    {
     "name": "stdout",
     "output_type": "stream",
     "text": [
      "Epoch 9/30 - Test Loss: 0.4897, Test Accuracy: 74.22%\n"
     ]
    },
    {
     "name": "stderr",
     "output_type": "stream",
     "text": [
      "Training Epoch: 100%|██████████████████████████████████████████████████████████████████████████████████████████████████████████████████████████████████████| 8/8 [00:01<00:00,  4.89it/s]\n"
     ]
    },
    {
     "name": "stdout",
     "output_type": "stream",
     "text": [
      "Epoch 10/30 - Train Loss: 0.4557, Train Accuracy: 78.82%\n"
     ]
    },
    {
     "name": "stderr",
     "output_type": "stream",
     "text": [
      "Testing: 100%|█████████████████████████████████████████████████████████████████████████████████████████████████████████████████████████████████████████████| 2/2 [00:00<00:00,  5.28it/s]\n"
     ]
    },
    {
     "name": "stdout",
     "output_type": "stream",
     "text": [
      "Epoch 10/30 - Test Loss: 0.4357, Test Accuracy: 81.64%\n"
     ]
    },
    {
     "name": "stderr",
     "output_type": "stream",
     "text": [
      "Training Epoch: 100%|██████████████████████████████████████████████████████████████████████████████████████████████████████████████████████████████████████| 8/8 [00:01<00:00,  4.98it/s]\n"
     ]
    },
    {
     "name": "stdout",
     "output_type": "stream",
     "text": [
      "Epoch 11/30 - Train Loss: 0.4182, Train Accuracy: 80.88%\n"
     ]
    },
    {
     "name": "stderr",
     "output_type": "stream",
     "text": [
      "Testing: 100%|█████████████████████████████████████████████████████████████████████████████████████████████████████████████████████████████████████████████| 2/2 [00:00<00:00,  5.23it/s]\n"
     ]
    },
    {
     "name": "stdout",
     "output_type": "stream",
     "text": [
      "Epoch 11/30 - Test Loss: 0.4182, Test Accuracy: 78.91%\n"
     ]
    },
    {
     "name": "stderr",
     "output_type": "stream",
     "text": [
      "Training Epoch: 100%|██████████████████████████████████████████████████████████████████████████████████████████████████████████████████████████████████████| 8/8 [00:01<00:00,  4.92it/s]\n"
     ]
    },
    {
     "name": "stdout",
     "output_type": "stream",
     "text": [
      "Epoch 12/30 - Train Loss: 0.4247, Train Accuracy: 80.00%\n"
     ]
    },
    {
     "name": "stderr",
     "output_type": "stream",
     "text": [
      "Testing: 100%|█████████████████████████████████████████████████████████████████████████████████████████████████████████████████████████████████████████████| 2/2 [00:00<00:00,  5.28it/s]\n"
     ]
    },
    {
     "name": "stdout",
     "output_type": "stream",
     "text": [
      "Epoch 12/30 - Test Loss: 0.4103, Test Accuracy: 82.81%\n"
     ]
    },
    {
     "name": "stderr",
     "output_type": "stream",
     "text": [
      "Training Epoch: 100%|██████████████████████████████████████████████████████████████████████████████████████████████████████████████████████████████████████| 8/8 [00:01<00:00,  4.93it/s]\n"
     ]
    },
    {
     "name": "stdout",
     "output_type": "stream",
     "text": [
      "Epoch 13/30 - Train Loss: 0.3921, Train Accuracy: 82.65%\n"
     ]
    },
    {
     "name": "stderr",
     "output_type": "stream",
     "text": [
      "Testing: 100%|█████████████████████████████████████████████████████████████████████████████████████████████████████████████████████████████████████████████| 2/2 [00:00<00:00,  5.19it/s]\n"
     ]
    },
    {
     "name": "stdout",
     "output_type": "stream",
     "text": [
      "Epoch 13/30 - Test Loss: 0.4155, Test Accuracy: 82.42%\n"
     ]
    },
    {
     "name": "stderr",
     "output_type": "stream",
     "text": [
      "Training Epoch: 100%|██████████████████████████████████████████████████████████████████████████████████████████████████████████████████████████████████████| 8/8 [00:01<00:00,  4.72it/s]\n"
     ]
    },
    {
     "name": "stdout",
     "output_type": "stream",
     "text": [
      "Epoch 14/30 - Train Loss: 0.3998, Train Accuracy: 82.45%\n"
     ]
    },
    {
     "name": "stderr",
     "output_type": "stream",
     "text": [
      "Testing: 100%|█████████████████████████████████████████████████████████████████████████████████████████████████████████████████████████████████████████████| 2/2 [00:00<00:00,  5.02it/s]\n"
     ]
    },
    {
     "name": "stdout",
     "output_type": "stream",
     "text": [
      "Epoch 14/30 - Test Loss: 0.4290, Test Accuracy: 78.52%\n"
     ]
    },
    {
     "name": "stderr",
     "output_type": "stream",
     "text": [
      "Training Epoch: 100%|██████████████████████████████████████████████████████████████████████████████████████████████████████████████████████████████████████| 8/8 [00:01<00:00,  5.03it/s]\n"
     ]
    },
    {
     "name": "stdout",
     "output_type": "stream",
     "text": [
      "Epoch 15/30 - Train Loss: 0.4075, Train Accuracy: 80.88%\n"
     ]
    },
    {
     "name": "stderr",
     "output_type": "stream",
     "text": [
      "Testing: 100%|█████████████████████████████████████████████████████████████████████████████████████████████████████████████████████████████████████████████| 2/2 [00:00<00:00,  4.99it/s]\n"
     ]
    },
    {
     "name": "stdout",
     "output_type": "stream",
     "text": [
      "Epoch 15/30 - Test Loss: 0.4056, Test Accuracy: 82.81%\n"
     ]
    },
    {
     "name": "stderr",
     "output_type": "stream",
     "text": [
      "Training Epoch: 100%|██████████████████████████████████████████████████████████████████████████████████████████████████████████████████████████████████████| 8/8 [00:01<00:00,  4.98it/s]\n"
     ]
    },
    {
     "name": "stdout",
     "output_type": "stream",
     "text": [
      "Epoch 16/30 - Train Loss: 0.3904, Train Accuracy: 81.18%\n"
     ]
    },
    {
     "name": "stderr",
     "output_type": "stream",
     "text": [
      "Testing: 100%|█████████████████████████████████████████████████████████████████████████████████████████████████████████████████████████████████████████████| 2/2 [00:00<00:00,  5.44it/s]\n"
     ]
    },
    {
     "name": "stdout",
     "output_type": "stream",
     "text": [
      "Epoch 16/30 - Test Loss: 0.4045, Test Accuracy: 83.20%\n"
     ]
    },
    {
     "name": "stderr",
     "output_type": "stream",
     "text": [
      "Training Epoch: 100%|██████████████████████████████████████████████████████████████████████████████████████████████████████████████████████████████████████| 8/8 [00:01<00:00,  5.09it/s]\n"
     ]
    },
    {
     "name": "stdout",
     "output_type": "stream",
     "text": [
      "Epoch 17/30 - Train Loss: 0.4054, Train Accuracy: 81.57%\n"
     ]
    },
    {
     "name": "stderr",
     "output_type": "stream",
     "text": [
      "Testing: 100%|█████████████████████████████████████████████████████████████████████████████████████████████████████████████████████████████████████████████| 2/2 [00:00<00:00,  5.32it/s]\n"
     ]
    },
    {
     "name": "stdout",
     "output_type": "stream",
     "text": [
      "Epoch 17/30 - Test Loss: 0.4118, Test Accuracy: 80.86%\n"
     ]
    },
    {
     "name": "stderr",
     "output_type": "stream",
     "text": [
      "Training Epoch: 100%|██████████████████████████████████████████████████████████████████████████████████████████████████████████████████████████████████████| 8/8 [00:01<00:00,  4.83it/s]\n"
     ]
    },
    {
     "name": "stdout",
     "output_type": "stream",
     "text": [
      "Epoch 18/30 - Train Loss: 0.3745, Train Accuracy: 83.92%\n"
     ]
    },
    {
     "name": "stderr",
     "output_type": "stream",
     "text": [
      "Testing: 100%|█████████████████████████████████████████████████████████████████████████████████████████████████████████████████████████████████████████████| 2/2 [00:00<00:00,  5.39it/s]\n"
     ]
    },
    {
     "name": "stdout",
     "output_type": "stream",
     "text": [
      "Epoch 18/30 - Test Loss: 0.3927, Test Accuracy: 83.98%\n"
     ]
    },
    {
     "name": "stderr",
     "output_type": "stream",
     "text": [
      "Training Epoch: 100%|██████████████████████████████████████████████████████████████████████████████████████████████████████████████████████████████████████| 8/8 [00:01<00:00,  4.99it/s]\n"
     ]
    },
    {
     "name": "stdout",
     "output_type": "stream",
     "text": [
      "Epoch 19/30 - Train Loss: 0.3716, Train Accuracy: 83.14%\n"
     ]
    },
    {
     "name": "stderr",
     "output_type": "stream",
     "text": [
      "Testing: 100%|█████████████████████████████████████████████████████████████████████████████████████████████████████████████████████████████████████████████| 2/2 [00:00<00:00,  5.39it/s]\n"
     ]
    },
    {
     "name": "stdout",
     "output_type": "stream",
     "text": [
      "Epoch 19/30 - Test Loss: 0.4062, Test Accuracy: 81.25%\n"
     ]
    },
    {
     "name": "stderr",
     "output_type": "stream",
     "text": [
      "Training Epoch: 100%|██████████████████████████████████████████████████████████████████████████████████████████████████████████████████████████████████████| 8/8 [00:01<00:00,  4.99it/s]\n"
     ]
    },
    {
     "name": "stdout",
     "output_type": "stream",
     "text": [
      "Epoch 20/30 - Train Loss: 0.4024, Train Accuracy: 80.88%\n"
     ]
    },
    {
     "name": "stderr",
     "output_type": "stream",
     "text": [
      "Testing: 100%|█████████████████████████████████████████████████████████████████████████████████████████████████████████████████████████████████████████████| 2/2 [00:00<00:00,  5.23it/s]\n"
     ]
    },
    {
     "name": "stdout",
     "output_type": "stream",
     "text": [
      "Epoch 20/30 - Test Loss: 0.3486, Test Accuracy: 86.33%\n"
     ]
    },
    {
     "name": "stderr",
     "output_type": "stream",
     "text": [
      "Training Epoch: 100%|██████████████████████████████████████████████████████████████████████████████████████████████████████████████████████████████████████| 8/8 [00:01<00:00,  4.81it/s]\n"
     ]
    },
    {
     "name": "stdout",
     "output_type": "stream",
     "text": [
      "Epoch 21/30 - Train Loss: 0.3755, Train Accuracy: 84.02%\n"
     ]
    },
    {
     "name": "stderr",
     "output_type": "stream",
     "text": [
      "Testing: 100%|█████████████████████████████████████████████████████████████████████████████████████████████████████████████████████████████████████████████| 2/2 [00:00<00:00,  4.73it/s]\n"
     ]
    },
    {
     "name": "stdout",
     "output_type": "stream",
     "text": [
      "Epoch 21/30 - Test Loss: 0.3478, Test Accuracy: 85.94%\n"
     ]
    },
    {
     "name": "stderr",
     "output_type": "stream",
     "text": [
      "Training Epoch: 100%|██████████████████████████████████████████████████████████████████████████████████████████████████████████████████████████████████████| 8/8 [00:01<00:00,  4.76it/s]\n"
     ]
    },
    {
     "name": "stdout",
     "output_type": "stream",
     "text": [
      "Epoch 22/30 - Train Loss: 0.3934, Train Accuracy: 82.65%\n"
     ]
    },
    {
     "name": "stderr",
     "output_type": "stream",
     "text": [
      "Testing: 100%|█████████████████████████████████████████████████████████████████████████████████████████████████████████████████████████████████████████████| 2/2 [00:00<00:00,  4.91it/s]\n"
     ]
    },
    {
     "name": "stdout",
     "output_type": "stream",
     "text": [
      "Epoch 22/30 - Test Loss: 0.3839, Test Accuracy: 85.94%\n"
     ]
    },
    {
     "name": "stderr",
     "output_type": "stream",
     "text": [
      "Training Epoch: 100%|██████████████████████████████████████████████████████████████████████████████████████████████████████████████████████████████████████| 8/8 [00:01<00:00,  4.85it/s]\n"
     ]
    },
    {
     "name": "stdout",
     "output_type": "stream",
     "text": [
      "Epoch 23/30 - Train Loss: 0.3636, Train Accuracy: 84.61%\n"
     ]
    },
    {
     "name": "stderr",
     "output_type": "stream",
     "text": [
      "Testing: 100%|█████████████████████████████████████████████████████████████████████████████████████████████████████████████████████████████████████████████| 2/2 [00:00<00:00,  5.17it/s]\n"
     ]
    },
    {
     "name": "stdout",
     "output_type": "stream",
     "text": [
      "Epoch 23/30 - Test Loss: 0.3770, Test Accuracy: 82.03%\n"
     ]
    },
    {
     "name": "stderr",
     "output_type": "stream",
     "text": [
      "Training Epoch: 100%|██████████████████████████████████████████████████████████████████████████████████████████████████████████████████████████████████████| 8/8 [00:01<00:00,  4.89it/s]\n"
     ]
    },
    {
     "name": "stdout",
     "output_type": "stream",
     "text": [
      "Epoch 24/30 - Train Loss: 0.3573, Train Accuracy: 83.82%\n"
     ]
    },
    {
     "name": "stderr",
     "output_type": "stream",
     "text": [
      "Testing: 100%|█████████████████████████████████████████████████████████████████████████████████████████████████████████████████████████████████████████████| 2/2 [00:00<00:00,  5.15it/s]\n"
     ]
    },
    {
     "name": "stdout",
     "output_type": "stream",
     "text": [
      "Epoch 24/30 - Test Loss: 0.3452, Test Accuracy: 85.16%\n"
     ]
    },
    {
     "name": "stderr",
     "output_type": "stream",
     "text": [
      "Training Epoch: 100%|██████████████████████████████████████████████████████████████████████████████████████████████████████████████████████████████████████| 8/8 [00:01<00:00,  5.01it/s]\n"
     ]
    },
    {
     "name": "stdout",
     "output_type": "stream",
     "text": [
      "Epoch 25/30 - Train Loss: 0.3687, Train Accuracy: 85.00%\n"
     ]
    },
    {
     "name": "stderr",
     "output_type": "stream",
     "text": [
      "Testing: 100%|█████████████████████████████████████████████████████████████████████████████████████████████████████████████████████████████████████████████| 2/2 [00:00<00:00,  5.20it/s]\n"
     ]
    },
    {
     "name": "stdout",
     "output_type": "stream",
     "text": [
      "Epoch 25/30 - Test Loss: 0.3475, Test Accuracy: 85.55%\n"
     ]
    },
    {
     "name": "stderr",
     "output_type": "stream",
     "text": [
      "Training Epoch: 100%|██████████████████████████████████████████████████████████████████████████████████████████████████████████████████████████████████████| 8/8 [00:01<00:00,  4.95it/s]\n"
     ]
    },
    {
     "name": "stdout",
     "output_type": "stream",
     "text": [
      "Epoch 26/30 - Train Loss: 0.3393, Train Accuracy: 84.80%\n"
     ]
    },
    {
     "name": "stderr",
     "output_type": "stream",
     "text": [
      "Testing: 100%|█████████████████████████████████████████████████████████████████████████████████████████████████████████████████████████████████████████████| 2/2 [00:00<00:00,  5.39it/s]\n"
     ]
    },
    {
     "name": "stdout",
     "output_type": "stream",
     "text": [
      "Epoch 26/30 - Test Loss: 0.3637, Test Accuracy: 84.38%\n"
     ]
    },
    {
     "name": "stderr",
     "output_type": "stream",
     "text": [
      "Training Epoch: 100%|██████████████████████████████████████████████████████████████████████████████████████████████████████████████████████████████████████| 8/8 [00:01<00:00,  5.06it/s]\n"
     ]
    },
    {
     "name": "stdout",
     "output_type": "stream",
     "text": [
      "Epoch 27/30 - Train Loss: 0.3666, Train Accuracy: 85.10%\n"
     ]
    },
    {
     "name": "stderr",
     "output_type": "stream",
     "text": [
      "Testing: 100%|█████████████████████████████████████████████████████████████████████████████████████████████████████████████████████████████████████████████| 2/2 [00:00<00:00,  5.31it/s]\n"
     ]
    },
    {
     "name": "stdout",
     "output_type": "stream",
     "text": [
      "Epoch 27/30 - Test Loss: 0.3620, Test Accuracy: 84.38%\n"
     ]
    },
    {
     "name": "stderr",
     "output_type": "stream",
     "text": [
      "Training Epoch: 100%|██████████████████████████████████████████████████████████████████████████████████████████████████████████████████████████████████████| 8/8 [00:01<00:00,  5.05it/s]\n"
     ]
    },
    {
     "name": "stdout",
     "output_type": "stream",
     "text": [
      "Epoch 28/30 - Train Loss: 0.3591, Train Accuracy: 84.80%\n"
     ]
    },
    {
     "name": "stderr",
     "output_type": "stream",
     "text": [
      "Testing: 100%|█████████████████████████████████████████████████████████████████████████████████████████████████████████████████████████████████████████████| 2/2 [00:00<00:00,  5.47it/s]\n"
     ]
    },
    {
     "name": "stdout",
     "output_type": "stream",
     "text": [
      "Epoch 28/30 - Test Loss: 0.3337, Test Accuracy: 87.11%\n"
     ]
    },
    {
     "name": "stderr",
     "output_type": "stream",
     "text": [
      "Training Epoch: 100%|██████████████████████████████████████████████████████████████████████████████████████████████████████████████████████████████████████| 8/8 [00:01<00:00,  5.12it/s]\n"
     ]
    },
    {
     "name": "stdout",
     "output_type": "stream",
     "text": [
      "Epoch 29/30 - Train Loss: 0.3294, Train Accuracy: 86.67%\n"
     ]
    },
    {
     "name": "stderr",
     "output_type": "stream",
     "text": [
      "Testing: 100%|█████████████████████████████████████████████████████████████████████████████████████████████████████████████████████████████████████████████| 2/2 [00:00<00:00,  5.06it/s]\n"
     ]
    },
    {
     "name": "stdout",
     "output_type": "stream",
     "text": [
      "Epoch 29/30 - Test Loss: 0.3026, Test Accuracy: 87.11%\n"
     ]
    },
    {
     "name": "stderr",
     "output_type": "stream",
     "text": [
      "Training Epoch: 100%|██████████████████████████████████████████████████████████████████████████████████████████████████████████████████████████████████████| 8/8 [00:01<00:00,  5.03it/s]\n"
     ]
    },
    {
     "name": "stdout",
     "output_type": "stream",
     "text": [
      "Epoch 30/30 - Train Loss: 0.3284, Train Accuracy: 86.08%\n"
     ]
    },
    {
     "name": "stderr",
     "output_type": "stream",
     "text": [
      "Testing: 100%|█████████████████████████████████████████████████████████████████████████████████████████████████████████████████████████████████████████████| 2/2 [00:00<00:00,  5.32it/s]"
     ]
    },
    {
     "name": "stdout",
     "output_type": "stream",
     "text": [
      "Epoch 30/30 - Test Loss: 0.3415, Test Accuracy: 85.16%\n"
     ]
    },
    {
     "name": "stderr",
     "output_type": "stream",
     "text": [
      "\n"
     ]
    }
   ],
   "source": [
    "from tqdm import tqdm\n",
    "\n",
    "def train(model, train_loader, optimizer, criterion, device):\n",
    "    model.train()  # Set the model to training mode\n",
    "    running_loss = 0.0\n",
    "    correct = 0\n",
    "    total = 0\n",
    "    for images, labels in tqdm(train_loader, desc=\"Training Epoch\"):\n",
    "        images, labels = images.to(device), labels.to(device)\n",
    "\n",
    "        # Zero the gradients\n",
    "        optimizer.zero_grad()\n",
    "\n",
    "        # Forward pass\n",
    "        outputs = model(images)\n",
    "        loss = criterion(outputs, labels)\n",
    "\n",
    "        # Backward pass\n",
    "        loss.backward()\n",
    "        optimizer.step()\n",
    "\n",
    "        # Track the loss and accuracy\n",
    "        running_loss += loss.item()\n",
    "        _, predicted = torch.max(outputs, 1)\n",
    "        _, true_predictions = torch.max(labels, 1)\n",
    "        correct += (predicted == true_predictions).sum().item()\n",
    "        total += labels.size(0)\n",
    "\n",
    "    epoch_loss = running_loss / len(train_loader)\n",
    "    epoch_accuracy = correct / total * 100\n",
    "    return epoch_loss, epoch_accuracy\n",
    "\n",
    "# Testing loop\n",
    "def test(model, test_loader, criterion, device):\n",
    "    model.eval()  # Set the model to evaluation mode\n",
    "    running_loss = 0.0\n",
    "    correct = 0\n",
    "    total = 0\n",
    "    with torch.no_grad():  # No gradient computation during testing\n",
    "        for images, labels in tqdm(test_loader, desc=\"Testing\"):\n",
    "            images, labels = images.to(device), labels.to(device)\n",
    "\n",
    "            # Forward pass\n",
    "            outputs = model(images)\n",
    "            loss = criterion(outputs, labels)\n",
    "\n",
    "            # Track the loss and accuracy\n",
    "            running_loss += loss.item()\n",
    "            _, predicted = torch.max(outputs, 1)\n",
    "            _, true_predictions = torch.max(labels, 1)\n",
    "            correct += (predicted == true_predictions).sum().item()\n",
    "            total += labels.size(0)\n",
    "\n",
    "    epoch_loss = running_loss / len(test_loader)\n",
    "    epoch_accuracy = correct / total * 100\n",
    "    return epoch_loss, epoch_accuracy\n",
    "\n",
    "\n",
    "def train_loop(model, train_loader, test_loader, criterion, optimizer, device, num_epochs):\n",
    "    train_losses = []\n",
    "    test_losses = []\n",
    "    train_accuracies = []\n",
    "    test_accuracies = []\n",
    "    for epoch in range(num_epochs):\n",
    "        # Training\n",
    "        train_loss, train_accuracy = train(model, train_loader, optimizer, criterion, device)\n",
    "        print(f\"Epoch {epoch+1}/{num_epochs} - Train Loss: {train_loss:.4f}, Train Accuracy: {train_accuracy:.2f}%\")\n",
    "    \n",
    "        # Testing\n",
    "        test_loss, test_accuracy = test(model, test_loader, criterion, device)\n",
    "        print(f\"Epoch {epoch+1}/{num_epochs} - Test Loss: {test_loss:.4f}, Test Accuracy: {test_accuracy:.2f}%\")\n",
    "        train_losses.append(train_loss)\n",
    "        test_losses.append(test_loss)\n",
    "        train_accuracies.append(train_accuracy)\n",
    "        test_accuracies.append(test_accuracy)\n",
    "    return {\n",
    "        \"train_loss\": train_losses,\n",
    "        \"test_loss\": test_losses,\n",
    "        \"train_acc\": train_accuracies,\n",
    "        \"test_acc\": test_accuracies\n",
    "    }\n",
    "\n",
    "criterion = nn.CrossEntropyLoss()\n",
    "optimizer = torch.optim.Adam(model.parameters(), weight_decay=1e-5)\n",
    "\n",
    "history = train_loop(model, train_loader, test_loader, criterion, optimizer, device, 30)"
   ]
  },
  {
   "cell_type": "code",
   "execution_count": 9,
   "id": "ccd1e65f-2627-49bb-a281-56d55a87a359",
   "metadata": {
    "execution": {
     "iopub.execute_input": "2024-12-11T17:20:30.336896Z",
     "iopub.status.busy": "2024-12-11T17:20:30.336748Z",
     "iopub.status.idle": "2024-12-11T17:20:30.340228Z",
     "shell.execute_reply": "2024-12-11T17:20:30.339763Z",
     "shell.execute_reply.started": "2024-12-11T17:20:30.336878Z"
    }
   },
   "outputs": [
    {
     "data": {
      "text/plain": [
       "[85.9375,\n",
       " 85.9375,\n",
       " 82.03125,\n",
       " 85.15625,\n",
       " 85.546875,\n",
       " 84.375,\n",
       " 84.375,\n",
       " 87.109375,\n",
       " 87.109375,\n",
       " 85.15625]"
      ]
     },
     "execution_count": 9,
     "metadata": {},
     "output_type": "execute_result"
    }
   ],
   "source": [
    "history[\"test_acc\"][-10:]"
   ]
  },
  {
   "cell_type": "code",
   "execution_count": 10,
   "id": "d68c071e-c78f-4ef4-a4da-336afe1a162c",
   "metadata": {
    "execution": {
     "iopub.execute_input": "2024-12-11T17:20:30.341930Z",
     "iopub.status.busy": "2024-12-11T17:20:30.341591Z",
     "iopub.status.idle": "2024-12-11T17:20:30.412574Z",
     "shell.execute_reply": "2024-12-11T17:20:30.411858Z",
     "shell.execute_reply.started": "2024-12-11T17:20:30.341913Z"
    }
   },
   "outputs": [
    {
     "data": {
      "text/plain": [
       "[<matplotlib.lines.Line2D at 0x7a920d534eb0>]"
      ]
     },
     "execution_count": 10,
     "metadata": {},
     "output_type": "execute_result"
    },
    {
     "data": {
      "image/png": "[encoded data removed]",
      "text/plain": [
       "<Figure size 432x288 with 1 Axes>"
      ]
     },
     "metadata": {
      "needs_background": "light"
     },
     "output_type": "display_data"
    }
   ],
   "source": [
    "import matplotlib.pyplot as plt\n",
    "\n",
    "epochs = list(range(len(history[\"test_acc\"])))\n",
    "plt.plot(epochs, history[\"train_loss\"], label=\"Train loss\")\n",
    "plt.plot(epochs, history[\"test_loss\"], label=\"Test loss\")"
   ]
  },
  {
   "cell_type": "code",
   "execution_count": 11,
   "id": "9e65123b-dea5-4b98-bff8-625969670375",
   "metadata": {
    "execution": {
     "iopub.execute_input": "2024-12-11T17:20:30.413854Z",
     "iopub.status.busy": "2024-12-11T17:20:30.413605Z",
     "iopub.status.idle": "2024-12-11T17:20:30.417593Z",
     "shell.execute_reply": "2024-12-11T17:20:30.417104Z",
     "shell.execute_reply.started": "2024-12-11T17:20:30.413828Z"
    }
   },
   "outputs": [],
   "source": [
    "def make_classification(model, ct, device, transform):\n",
    "    result = []\n",
    "    for depth in range(ct.shape[2]):\n",
    "        s = transform(torch.tensor(ct[:, :, depth], dtype=torch.float, device=device).unsqueeze(0))\n",
    "        c = torch.argmax(model(s.unsqueeze(0))).item()\n",
    "        result.append(c)\n",
    "    return result"
   ]
  },
  {
   "cell_type": "code",
   "execution_count": 12,
   "id": "7f7f5e33-ba51-4664-936e-450842cc7976",
   "metadata": {
    "execution": {
     "iopub.execute_input": "2024-12-11T17:20:30.418770Z",
     "iopub.status.busy": "2024-12-11T17:20:30.418265Z",
     "iopub.status.idle": "2024-12-11T17:20:30.422423Z",
     "shell.execute_reply": "2024-12-11T17:20:30.421873Z",
     "shell.execute_reply.started": "2024-12-11T17:20:30.418751Z"
    },
    "scrolled": true
   },
   "outputs": [],
   "source": [
    "def find_voi(classification, n_neigh=3):\n",
    "    # TODO: change algorithm\n",
    "    result = []\n",
    "    for i in range(len(classification)):\n",
    "        left = classification[max(0, i - n_neigh):i + 1]\n",
    "        right = classification[i:min(len(classification), i + n_neigh)]\n",
    "        decision = int((all(left) and len(left) != 1) or (all(right) and len(right) != 1))\n",
    "        result.append(decision)\n",
    "    start = result.index(1) if 1 in result else 0\n",
    "    end = start + sum(result)\n",
    "    return start, end"
   ]
  },
  {
   "cell_type": "code",
   "execution_count": 14,
   "id": "1c57208f-ce43-442d-851a-cda0fe0e860d",
   "metadata": {
    "execution": {
     "iopub.execute_input": "2024-12-11T16:58:49.617283Z",
     "iopub.status.busy": "2024-12-11T16:58:49.616729Z",
     "iopub.status.idle": "2024-12-11T16:59:11.306739Z",
     "shell.execute_reply": "2024-12-11T16:59:11.306220Z",
     "shell.execute_reply.started": "2024-12-11T16:58:49.617250Z"
    }
   },
   "outputs": [
    {
     "data": {
      "text/html": [
       "<div>\n",
       "<style scoped>\n",
       "    .dataframe tbody tr th:only-of-type {\n",
       "        vertical-align: middle;\n",
       "    }\n",
       "\n",
       "    .dataframe tbody tr th {\n",
       "        vertical-align: top;\n",
       "    }\n",
       "\n",
       "    .dataframe thead th {\n",
       "        text-align: right;\n",
       "    }\n",
       "</style>\n",
       "<table border=\"1\" class=\"dataframe\">\n",
       "  <thead>\n",
       "    <tr style=\"text-align: right;\">\n",
       "      <th></th>\n",
       "      <th>sample</th>\n",
       "      <th>start</th>\n",
       "      <th>end</th>\n",
       "      <th>predicted_start</th>\n",
       "      <th>predicted_end</th>\n",
       "      <th>metric</th>\n",
       "    </tr>\n",
       "  </thead>\n",
       "  <tbody>\n",
       "    <tr>\n",
       "      <th>0</th>\n",
       "      <td>0001_1_.nii.gz</td>\n",
       "      <td>105</td>\n",
       "      <td>137</td>\n",
       "      <td>139</td>\n",
       "      <td>142</td>\n",
       "      <td>39</td>\n",
       "    </tr>\n",
       "    <tr>\n",
       "      <th>1</th>\n",
       "      <td>0001_2_.nii.gz</td>\n",
       "      <td>100</td>\n",
       "      <td>132</td>\n",
       "      <td>1</td>\n",
       "      <td>2</td>\n",
       "      <td>229</td>\n",
       "    </tr>\n",
       "    <tr>\n",
       "      <th>2</th>\n",
       "      <td>0002_1_.nii.gz</td>\n",
       "      <td>93</td>\n",
       "      <td>130</td>\n",
       "      <td>73</td>\n",
       "      <td>107</td>\n",
       "      <td>43</td>\n",
       "    </tr>\n",
       "    <tr>\n",
       "      <th>3</th>\n",
       "      <td>0002_2_.nii.gz</td>\n",
       "      <td>87</td>\n",
       "      <td>123</td>\n",
       "      <td>74</td>\n",
       "      <td>130</td>\n",
       "      <td>20</td>\n",
       "    </tr>\n",
       "    <tr>\n",
       "      <th>4</th>\n",
       "      <td>0003_1_.nii.gz</td>\n",
       "      <td>100</td>\n",
       "      <td>131</td>\n",
       "      <td>75</td>\n",
       "      <td>132</td>\n",
       "      <td>26</td>\n",
       "    </tr>\n",
       "    <tr>\n",
       "      <th>5</th>\n",
       "      <td>0003_2_.nii.gz</td>\n",
       "      <td>101</td>\n",
       "      <td>133</td>\n",
       "      <td>79</td>\n",
       "      <td>127</td>\n",
       "      <td>28</td>\n",
       "    </tr>\n",
       "    <tr>\n",
       "      <th>6</th>\n",
       "      <td>0004_1_.nii.gz</td>\n",
       "      <td>169</td>\n",
       "      <td>200</td>\n",
       "      <td>158</td>\n",
       "      <td>233</td>\n",
       "      <td>44</td>\n",
       "    </tr>\n",
       "    <tr>\n",
       "      <th>7</th>\n",
       "      <td>0004_2_.nii.gz</td>\n",
       "      <td>162</td>\n",
       "      <td>191</td>\n",
       "      <td>152</td>\n",
       "      <td>157</td>\n",
       "      <td>44</td>\n",
       "    </tr>\n",
       "    <tr>\n",
       "      <th>8</th>\n",
       "      <td>0005_1_.nii.gz</td>\n",
       "      <td>120</td>\n",
       "      <td>151</td>\n",
       "      <td>119</td>\n",
       "      <td>174</td>\n",
       "      <td>24</td>\n",
       "    </tr>\n",
       "    <tr>\n",
       "      <th>9</th>\n",
       "      <td>0006_1_.nii.gz</td>\n",
       "      <td>183</td>\n",
       "      <td>214</td>\n",
       "      <td>164</td>\n",
       "      <td>237</td>\n",
       "      <td>42</td>\n",
       "    </tr>\n",
       "    <tr>\n",
       "      <th>10</th>\n",
       "      <td>0006_2_.nii.gz</td>\n",
       "      <td>179</td>\n",
       "      <td>212</td>\n",
       "      <td>161</td>\n",
       "      <td>208</td>\n",
       "      <td>22</td>\n",
       "    </tr>\n",
       "    <tr>\n",
       "      <th>11</th>\n",
       "      <td>0007_1_.nii.gz</td>\n",
       "      <td>189</td>\n",
       "      <td>222</td>\n",
       "      <td>168</td>\n",
       "      <td>236</td>\n",
       "      <td>35</td>\n",
       "    </tr>\n",
       "    <tr>\n",
       "      <th>12</th>\n",
       "      <td>0007_2_.nii.gz</td>\n",
       "      <td>108</td>\n",
       "      <td>145</td>\n",
       "      <td>85</td>\n",
       "      <td>159</td>\n",
       "      <td>37</td>\n",
       "    </tr>\n",
       "    <tr>\n",
       "      <th>13</th>\n",
       "      <td>0008_1_.nii.gz</td>\n",
       "      <td>186</td>\n",
       "      <td>216</td>\n",
       "      <td>184</td>\n",
       "      <td>222</td>\n",
       "      <td>8</td>\n",
       "    </tr>\n",
       "    <tr>\n",
       "      <th>14</th>\n",
       "      <td>0008_2_.nii.gz</td>\n",
       "      <td>169</td>\n",
       "      <td>199</td>\n",
       "      <td>172</td>\n",
       "      <td>214</td>\n",
       "      <td>18</td>\n",
       "    </tr>\n",
       "    <tr>\n",
       "      <th>15</th>\n",
       "      <td>0009_1_.nii.gz</td>\n",
       "      <td>183</td>\n",
       "      <td>219</td>\n",
       "      <td>160</td>\n",
       "      <td>223</td>\n",
       "      <td>27</td>\n",
       "    </tr>\n",
       "    <tr>\n",
       "      <th>16</th>\n",
       "      <td>0009_2_.nii.gz</td>\n",
       "      <td>173</td>\n",
       "      <td>212</td>\n",
       "      <td>159</td>\n",
       "      <td>215</td>\n",
       "      <td>17</td>\n",
       "    </tr>\n",
       "    <tr>\n",
       "      <th>17</th>\n",
       "      <td>0010_1_.nii.gz</td>\n",
       "      <td>168</td>\n",
       "      <td>197</td>\n",
       "      <td>170</td>\n",
       "      <td>171</td>\n",
       "      <td>28</td>\n",
       "    </tr>\n",
       "    <tr>\n",
       "      <th>18</th>\n",
       "      <td>0010_2_.nii.gz</td>\n",
       "      <td>104</td>\n",
       "      <td>134</td>\n",
       "      <td>0</td>\n",
       "      <td>0</td>\n",
       "      <td>238</td>\n",
       "    </tr>\n",
       "  </tbody>\n",
       "</table>\n",
       "</div>"
      ],
      "text/plain": [
       "            sample  start  end  predicted_start  predicted_end  metric\n",
       "0   0001_1_.nii.gz    105  137              139            142      39\n",
       "1   0001_2_.nii.gz    100  132                1              2     229\n",
       "2   0002_1_.nii.gz     93  130               73            107      43\n",
       "3   0002_2_.nii.gz     87  123               74            130      20\n",
       "4   0003_1_.nii.gz    100  131               75            132      26\n",
       "5   0003_2_.nii.gz    101  133               79            127      28\n",
       "6   0004_1_.nii.gz    169  200              158            233      44\n",
       "7   0004_2_.nii.gz    162  191              152            157      44\n",
       "8   0005_1_.nii.gz    120  151              119            174      24\n",
       "9   0006_1_.nii.gz    183  214              164            237      42\n",
       "10  0006_2_.nii.gz    179  212              161            208      22\n",
       "11  0007_1_.nii.gz    189  222              168            236      35\n",
       "12  0007_2_.nii.gz    108  145               85            159      37\n",
       "13  0008_1_.nii.gz    186  216              184            222       8\n",
       "14  0008_2_.nii.gz    169  199              172            214      18\n",
       "15  0009_1_.nii.gz    183  219              160            223      27\n",
       "16  0009_2_.nii.gz    173  212              159            215      17\n",
       "17  0010_1_.nii.gz    168  197              170            171      28\n",
       "18  0010_2_.nii.gz    104  134                0              0     238"
      ]
     },
     "execution_count": 14,
     "metadata": {},
     "output_type": "execute_result"
    }
   ],
   "source": [
    "import pandas as pd\n",
    "\n",
    "n_neigh = 10\n",
    "\n",
    "data = {\n",
    "    \"sample\": list(),\n",
    "    \"start\": list(),\n",
    "    \"end\": list(),\n",
    "    \"predicted_start\": list(),\n",
    "    \"predicted_end\": list(),\n",
    "    \"metric\": list()\n",
    "}\n",
    "\n",
    "for sample, start, end in samples:\n",
    "    ct = nib.load(f\"Data/{sample}\").get_fdata()\n",
    "    classification = make_classification(model, ct, device)\n",
    "    predicted_start, predicted_end = find_voi(classification, n_neigh)\n",
    "    metric = abs(predicted_start - start) + abs(predicted_end - end)\n",
    "    data[\"sample\"].append(sample)\n",
    "    data[\"start\"].append(start)\n",
    "    data[\"end\"].append(end)\n",
    "    data[\"predicted_start\"].append(predicted_start)\n",
    "    data[\"predicted_end\"].append(predicted_end)\n",
    "    data[\"metric\"].append(metric)\n",
    "\n",
    "df = pd.DataFrame(data)\n",
    "df"
   ]
  },
  {
   "cell_type": "code",
   "execution_count": 15,
   "id": "82348504-d755-47a7-ae03-52f27bd770f8",
   "metadata": {
    "execution": {
     "iopub.execute_input": "2024-12-11T16:59:11.347308Z",
     "iopub.status.busy": "2024-12-11T16:59:11.346921Z",
     "iopub.status.idle": "2024-12-11T16:59:11.350857Z",
     "shell.execute_reply": "2024-12-11T16:59:11.350414Z",
     "shell.execute_reply.started": "2024-12-11T16:59:11.347290Z"
    },
    "scrolled": true
   },
   "outputs": [
    {
     "data": {
      "text/plain": [
       "51.0"
      ]
     },
     "execution_count": 15,
     "metadata": {},
     "output_type": "execute_result"
    }
   ],
   "source": [
    "df[\"metric\"].mean()"
   ]
  },
  {
   "cell_type": "code",
   "execution_count": 16,
   "id": "a2ebea52-4f64-42f5-a7d8-87958b1dc36d",
   "metadata": {
    "execution": {
     "iopub.execute_input": "2024-12-11T16:59:11.351972Z",
     "iopub.status.busy": "2024-12-11T16:59:11.351773Z",
     "iopub.status.idle": "2024-12-11T16:59:11.362268Z",
     "shell.execute_reply": "2024-12-11T16:59:11.361801Z",
     "shell.execute_reply.started": "2024-12-11T16:59:11.351956Z"
    }
   },
   "outputs": [
    {
     "data": {
      "text/html": [
       "<div>\n",
       "<style scoped>\n",
       "    .dataframe tbody tr th:only-of-type {\n",
       "        vertical-align: middle;\n",
       "    }\n",
       "\n",
       "    .dataframe tbody tr th {\n",
       "        vertical-align: top;\n",
       "    }\n",
       "\n",
       "    .dataframe thead th {\n",
       "        text-align: right;\n",
       "    }\n",
       "</style>\n",
       "<table border=\"1\" class=\"dataframe\">\n",
       "  <thead>\n",
       "    <tr style=\"text-align: right;\">\n",
       "      <th></th>\n",
       "      <th>sample</th>\n",
       "      <th>start</th>\n",
       "      <th>end</th>\n",
       "      <th>predicted_start</th>\n",
       "      <th>predicted_end</th>\n",
       "      <th>metric</th>\n",
       "    </tr>\n",
       "  </thead>\n",
       "  <tbody>\n",
       "    <tr>\n",
       "      <th>0</th>\n",
       "      <td>0001_1_.nii.gz</td>\n",
       "      <td>105</td>\n",
       "      <td>137</td>\n",
       "      <td>139</td>\n",
       "      <td>142</td>\n",
       "      <td>39</td>\n",
       "    </tr>\n",
       "    <tr>\n",
       "      <th>1</th>\n",
       "      <td>0001_2_.nii.gz</td>\n",
       "      <td>100</td>\n",
       "      <td>132</td>\n",
       "      <td>1</td>\n",
       "      <td>2</td>\n",
       "      <td>229</td>\n",
       "    </tr>\n",
       "    <tr>\n",
       "      <th>2</th>\n",
       "      <td>0002_1_.nii.gz</td>\n",
       "      <td>93</td>\n",
       "      <td>130</td>\n",
       "      <td>73</td>\n",
       "      <td>107</td>\n",
       "      <td>43</td>\n",
       "    </tr>\n",
       "    <tr>\n",
       "      <th>3</th>\n",
       "      <td>0002_2_.nii.gz</td>\n",
       "      <td>87</td>\n",
       "      <td>123</td>\n",
       "      <td>74</td>\n",
       "      <td>130</td>\n",
       "      <td>20</td>\n",
       "    </tr>\n",
       "    <tr>\n",
       "      <th>4</th>\n",
       "      <td>0003_1_.nii.gz</td>\n",
       "      <td>100</td>\n",
       "      <td>131</td>\n",
       "      <td>75</td>\n",
       "      <td>132</td>\n",
       "      <td>26</td>\n",
       "    </tr>\n",
       "    <tr>\n",
       "      <th>5</th>\n",
       "      <td>0003_2_.nii.gz</td>\n",
       "      <td>101</td>\n",
       "      <td>133</td>\n",
       "      <td>79</td>\n",
       "      <td>127</td>\n",
       "      <td>28</td>\n",
       "    </tr>\n",
       "    <tr>\n",
       "      <th>6</th>\n",
       "      <td>0004_1_.nii.gz</td>\n",
       "      <td>169</td>\n",
       "      <td>200</td>\n",
       "      <td>158</td>\n",
       "      <td>233</td>\n",
       "      <td>44</td>\n",
       "    </tr>\n",
       "    <tr>\n",
       "      <th>7</th>\n",
       "      <td>0004_2_.nii.gz</td>\n",
       "      <td>162</td>\n",
       "      <td>191</td>\n",
       "      <td>152</td>\n",
       "      <td>157</td>\n",
       "      <td>44</td>\n",
       "    </tr>\n",
       "    <tr>\n",
       "      <th>8</th>\n",
       "      <td>0005_1_.nii.gz</td>\n",
       "      <td>120</td>\n",
       "      <td>151</td>\n",
       "      <td>119</td>\n",
       "      <td>174</td>\n",
       "      <td>24</td>\n",
       "    </tr>\n",
       "    <tr>\n",
       "      <th>9</th>\n",
       "      <td>0006_1_.nii.gz</td>\n",
       "      <td>183</td>\n",
       "      <td>214</td>\n",
       "      <td>164</td>\n",
       "      <td>237</td>\n",
       "      <td>42</td>\n",
       "    </tr>\n",
       "    <tr>\n",
       "      <th>10</th>\n",
       "      <td>0006_2_.nii.gz</td>\n",
       "      <td>179</td>\n",
       "      <td>212</td>\n",
       "      <td>161</td>\n",
       "      <td>208</td>\n",
       "      <td>22</td>\n",
       "    </tr>\n",
       "    <tr>\n",
       "      <th>11</th>\n",
       "      <td>0007_1_.nii.gz</td>\n",
       "      <td>189</td>\n",
       "      <td>222</td>\n",
       "      <td>168</td>\n",
       "      <td>236</td>\n",
       "      <td>35</td>\n",
       "    </tr>\n",
       "    <tr>\n",
       "      <th>12</th>\n",
       "      <td>0007_2_.nii.gz</td>\n",
       "      <td>108</td>\n",
       "      <td>145</td>\n",
       "      <td>85</td>\n",
       "      <td>159</td>\n",
       "      <td>37</td>\n",
       "    </tr>\n",
       "    <tr>\n",
       "      <th>13</th>\n",
       "      <td>0008_1_.nii.gz</td>\n",
       "      <td>186</td>\n",
       "      <td>216</td>\n",
       "      <td>184</td>\n",
       "      <td>222</td>\n",
       "      <td>8</td>\n",
       "    </tr>\n",
       "    <tr>\n",
       "      <th>14</th>\n",
       "      <td>0008_2_.nii.gz</td>\n",
       "      <td>169</td>\n",
       "      <td>199</td>\n",
       "      <td>172</td>\n",
       "      <td>214</td>\n",
       "      <td>18</td>\n",
       "    </tr>\n",
       "    <tr>\n",
       "      <th>15</th>\n",
       "      <td>0009_1_.nii.gz</td>\n",
       "      <td>183</td>\n",
       "      <td>219</td>\n",
       "      <td>160</td>\n",
       "      <td>223</td>\n",
       "      <td>27</td>\n",
       "    </tr>\n",
       "    <tr>\n",
       "      <th>16</th>\n",
       "      <td>0009_2_.nii.gz</td>\n",
       "      <td>173</td>\n",
       "      <td>212</td>\n",
       "      <td>159</td>\n",
       "      <td>215</td>\n",
       "      <td>17</td>\n",
       "    </tr>\n",
       "    <tr>\n",
       "      <th>17</th>\n",
       "      <td>0010_1_.nii.gz</td>\n",
       "      <td>168</td>\n",
       "      <td>197</td>\n",
       "      <td>170</td>\n",
       "      <td>171</td>\n",
       "      <td>28</td>\n",
       "    </tr>\n",
       "    <tr>\n",
       "      <th>18</th>\n",
       "      <td>0010_2_.nii.gz</td>\n",
       "      <td>104</td>\n",
       "      <td>134</td>\n",
       "      <td>0</td>\n",
       "      <td>0</td>\n",
       "      <td>238</td>\n",
       "    </tr>\n",
       "  </tbody>\n",
       "</table>\n",
       "</div>"
      ],
      "text/plain": [
       "            sample  start  end  predicted_start  predicted_end  metric\n",
       "0   0001_1_.nii.gz    105  137              139            142      39\n",
       "1   0001_2_.nii.gz    100  132                1              2     229\n",
       "2   0002_1_.nii.gz     93  130               73            107      43\n",
       "3   0002_2_.nii.gz     87  123               74            130      20\n",
       "4   0003_1_.nii.gz    100  131               75            132      26\n",
       "5   0003_2_.nii.gz    101  133               79            127      28\n",
       "6   0004_1_.nii.gz    169  200              158            233      44\n",
       "7   0004_2_.nii.gz    162  191              152            157      44\n",
       "8   0005_1_.nii.gz    120  151              119            174      24\n",
       "9   0006_1_.nii.gz    183  214              164            237      42\n",
       "10  0006_2_.nii.gz    179  212              161            208      22\n",
       "11  0007_1_.nii.gz    189  222              168            236      35\n",
       "12  0007_2_.nii.gz    108  145               85            159      37\n",
       "13  0008_1_.nii.gz    186  216              184            222       8\n",
       "14  0008_2_.nii.gz    169  199              172            214      18\n",
       "15  0009_1_.nii.gz    183  219              160            223      27\n",
       "16  0009_2_.nii.gz    173  212              159            215      17\n",
       "17  0010_1_.nii.gz    168  197              170            171      28\n",
       "18  0010_2_.nii.gz    104  134                0              0     238"
      ]
     },
     "execution_count": 16,
     "metadata": {},
     "output_type": "execute_result"
    }
   ],
   "source": [
    "df"
   ]
  },
  {
   "cell_type": "code",
   "execution_count": 13,
   "id": "cd618a6d-6441-4fae-af84-b929d689af9e",
   "metadata": {
    "execution": {
     "iopub.execute_input": "2024-12-11T17:20:30.423127Z",
     "iopub.status.busy": "2024-12-11T17:20:30.422986Z",
     "iopub.status.idle": "2024-12-11T17:20:30.427778Z",
     "shell.execute_reply": "2024-12-11T17:20:30.427174Z",
     "shell.execute_reply.started": "2024-12-11T17:20:30.423113Z"
    }
   },
   "outputs": [
    {
     "data": {
      "text/plain": [
       "[('0.nii.gz', 25, 47),\n",
       " ('1.nii.gz', 24, 46),\n",
       " ('2.nii.gz', 22, 46),\n",
       " ('3.nii.gz', 43, 86),\n",
       " ('4.nii.gz', 19, 38),\n",
       " ('5.nii.gz', 30, 49),\n",
       " ('6.nii.gz', 21, 43),\n",
       " ('7.nii.gz', 26, 46),\n",
       " ('8.nii.gz', 66, 87),\n",
       " ('9.nii.gz', 21, 44)]"
      ]
     },
     "execution_count": 13,
     "metadata": {},
     "output_type": "execute_result"
    }
   ],
   "source": [
    "samples = []\n",
    "\n",
    "with open('testData/ranges.txt') as fp:\n",
    "    for idx, line in enumerate(fp.readlines()):\n",
    "        [start, end] = line[:-1].split(\" \")\n",
    "        filename = f\"{idx}.nii.gz\"\n",
    "        samples.append((filename, int(start), int(end)))\n",
    "\n",
    "samples"
   ]
  },
  {
   "cell_type": "code",
   "execution_count": 22,
   "id": "fecccfe2-57a4-4906-a99e-4d91b2596e7c",
   "metadata": {
    "execution": {
     "iopub.execute_input": "2024-12-11T17:24:59.242539Z",
     "iopub.status.busy": "2024-12-11T17:24:59.242162Z",
     "iopub.status.idle": "2024-12-11T17:25:01.982083Z",
     "shell.execute_reply": "2024-12-11T17:25:01.981594Z",
     "shell.execute_reply.started": "2024-12-11T17:24:59.242522Z"
    }
   },
   "outputs": [
    {
     "data": {
      "text/html": [
       "<div>\n",
       "<style scoped>\n",
       "    .dataframe tbody tr th:only-of-type {\n",
       "        vertical-align: middle;\n",
       "    }\n",
       "\n",
       "    .dataframe tbody tr th {\n",
       "        vertical-align: top;\n",
       "    }\n",
       "\n",
       "    .dataframe thead th {\n",
       "        text-align: right;\n",
       "    }\n",
       "</style>\n",
       "<table border=\"1\" class=\"dataframe\">\n",
       "  <thead>\n",
       "    <tr style=\"text-align: right;\">\n",
       "      <th></th>\n",
       "      <th>sample</th>\n",
       "      <th>start</th>\n",
       "      <th>end</th>\n",
       "      <th>predicted_start</th>\n",
       "      <th>predicted_end</th>\n",
       "      <th>metric</th>\n",
       "    </tr>\n",
       "  </thead>\n",
       "  <tbody>\n",
       "    <tr>\n",
       "      <th>0</th>\n",
       "      <td>0.nii.gz</td>\n",
       "      <td>25</td>\n",
       "      <td>47</td>\n",
       "      <td>24</td>\n",
       "      <td>45</td>\n",
       "      <td>3</td>\n",
       "    </tr>\n",
       "    <tr>\n",
       "      <th>1</th>\n",
       "      <td>1.nii.gz</td>\n",
       "      <td>24</td>\n",
       "      <td>46</td>\n",
       "      <td>22</td>\n",
       "      <td>23</td>\n",
       "      <td>25</td>\n",
       "    </tr>\n",
       "    <tr>\n",
       "      <th>2</th>\n",
       "      <td>2.nii.gz</td>\n",
       "      <td>22</td>\n",
       "      <td>46</td>\n",
       "      <td>20</td>\n",
       "      <td>39</td>\n",
       "      <td>9</td>\n",
       "    </tr>\n",
       "    <tr>\n",
       "      <th>3</th>\n",
       "      <td>3.nii.gz</td>\n",
       "      <td>43</td>\n",
       "      <td>86</td>\n",
       "      <td>42</td>\n",
       "      <td>88</td>\n",
       "      <td>3</td>\n",
       "    </tr>\n",
       "    <tr>\n",
       "      <th>4</th>\n",
       "      <td>4.nii.gz</td>\n",
       "      <td>19</td>\n",
       "      <td>38</td>\n",
       "      <td>14</td>\n",
       "      <td>45</td>\n",
       "      <td>12</td>\n",
       "    </tr>\n",
       "    <tr>\n",
       "      <th>5</th>\n",
       "      <td>5.nii.gz</td>\n",
       "      <td>30</td>\n",
       "      <td>49</td>\n",
       "      <td>16</td>\n",
       "      <td>50</td>\n",
       "      <td>15</td>\n",
       "    </tr>\n",
       "    <tr>\n",
       "      <th>6</th>\n",
       "      <td>6.nii.gz</td>\n",
       "      <td>21</td>\n",
       "      <td>43</td>\n",
       "      <td>15</td>\n",
       "      <td>46</td>\n",
       "      <td>9</td>\n",
       "    </tr>\n",
       "    <tr>\n",
       "      <th>7</th>\n",
       "      <td>7.nii.gz</td>\n",
       "      <td>26</td>\n",
       "      <td>46</td>\n",
       "      <td>14</td>\n",
       "      <td>53</td>\n",
       "      <td>19</td>\n",
       "    </tr>\n",
       "    <tr>\n",
       "      <th>8</th>\n",
       "      <td>8.nii.gz</td>\n",
       "      <td>66</td>\n",
       "      <td>87</td>\n",
       "      <td>56</td>\n",
       "      <td>94</td>\n",
       "      <td>17</td>\n",
       "    </tr>\n",
       "    <tr>\n",
       "      <th>9</th>\n",
       "      <td>9.nii.gz</td>\n",
       "      <td>21</td>\n",
       "      <td>44</td>\n",
       "      <td>16</td>\n",
       "      <td>35</td>\n",
       "      <td>14</td>\n",
       "    </tr>\n",
       "  </tbody>\n",
       "</table>\n",
       "</div>"
      ],
      "text/plain": [
       "     sample  start  end  predicted_start  predicted_end  metric\n",
       "0  0.nii.gz     25   47               24             45       3\n",
       "1  1.nii.gz     24   46               22             23      25\n",
       "2  2.nii.gz     22   46               20             39       9\n",
       "3  3.nii.gz     43   86               42             88       3\n",
       "4  4.nii.gz     19   38               14             45      12\n",
       "5  5.nii.gz     30   49               16             50      15\n",
       "6  6.nii.gz     21   43               15             46       9\n",
       "7  7.nii.gz     26   46               14             53      19\n",
       "8  8.nii.gz     66   87               56             94      17\n",
       "9  9.nii.gz     21   44               16             35      14"
      ]
     },
     "execution_count": 22,
     "metadata": {},
     "output_type": "execute_result"
    }
   ],
   "source": [
    "import pandas as pd\n",
    "\n",
    "n_neigh = 15\n",
    "\n",
    "transform = transforms.Compose([\n",
    "    transforms.Resize((64, 64)),\n",
    "    transforms.Normalize(mean=[0.485], std=[0.229]),\n",
    "])\n",
    "\n",
    "data = {\n",
    "    \"sample\": list(),\n",
    "    \"start\": list(),\n",
    "    \"end\": list(),\n",
    "    \"predicted_start\": list(),\n",
    "    \"predicted_end\": list(),\n",
    "    \"metric\": list()\n",
    "}\n",
    "\n",
    "for sample, start, end in samples:\n",
    "    ct = nib.load(f\"testData/{sample}\").get_fdata()\n",
    "    classification = make_classification(model, ct, device, transform)\n",
    "    predicted_start, predicted_end = find_voi(classification, n_neigh)\n",
    "    metric = abs(predicted_start - start) + abs(predicted_end - end)\n",
    "    data[\"sample\"].append(sample)\n",
    "    data[\"start\"].append(start)\n",
    "    data[\"end\"].append(end)\n",
    "    data[\"predicted_start\"].append(predicted_start)\n",
    "    data[\"predicted_end\"].append(predicted_end)\n",
    "    data[\"metric\"].append(metric)\n",
    "\n",
    "df = pd.DataFrame(data)\n",
    "df"
   ]
  },
  {
   "cell_type": "code",
   "execution_count": 23,
   "id": "c19108a7-26ba-4124-a61d-7d1165f48c9a",
   "metadata": {
    "execution": {
     "iopub.execute_input": "2024-12-11T17:25:02.016105Z",
     "iopub.status.busy": "2024-12-11T17:25:02.015926Z",
     "iopub.status.idle": "2024-12-11T17:25:02.019082Z",
     "shell.execute_reply": "2024-12-11T17:25:02.018687Z",
     "shell.execute_reply.started": "2024-12-11T17:25:02.016090Z"
    }
   },
   "outputs": [
    {
     "data": {
      "text/plain": [
       "12.6"
      ]
     },
     "execution_count": 23,
     "metadata": {},
     "output_type": "execute_result"
    }
   ],
   "source": [
    "df[\"metric\"].mean()"
   ]
  },
  {
   "cell_type": "code",
   "execution_count": 16,
   "id": "b9794e78-7971-4a84-b6f3-d72ed14bbf4e",
   "metadata": {
    "execution": {
     "iopub.execute_input": "2024-12-11T17:21:14.643827Z",
     "iopub.status.busy": "2024-12-11T17:21:14.643468Z",
     "iopub.status.idle": "2024-12-11T17:21:14.719472Z",
     "shell.execute_reply": "2024-12-11T17:21:14.718925Z",
     "shell.execute_reply.started": "2024-12-11T17:21:14.643804Z"
    }
   },
   "outputs": [],
   "source": [
    "torch.save(model.state_dict(), 'model.pth')"
   ]
  }
 ],
 "metadata": {
  "kernelspec": {
   "display_name": "Python 3 (ipykernel)",
   "language": "python",
   "name": "python3"
  },
  "language_info": {
   "codemirror_mode": {
    "name": "ipython",
    "version": 3
   },
   "file_extension": ".py",
   "mimetype": "text/x-python",
   "name": "python",
   "nbconvert_exporter": "python",
   "pygments_lexer": "ipython3",
   "version": "3.10.12"
  }
 },
 "nbformat": 4,
 "nbformat_minor": 5
}
