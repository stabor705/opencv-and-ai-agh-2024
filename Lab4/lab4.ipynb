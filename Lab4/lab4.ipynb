{
 "cells": [
  {
   "cell_type": "code",
   "execution_count": null,
   "id": "8b266d87-0f9a-4eb7-908e-796dbb6d7850",
   "metadata": {
    "ExecuteTime": {
     "end_time": "2024-12-08T15:02:37.696038Z",
     "start_time": "2024-12-08T15:02:37.674902Z"
    },
    "execution": {
     "iopub.execute_input": "2024-12-08T15:28:39.380954Z",
     "iopub.status.busy": "2024-12-08T15:28:39.380783Z",
     "iopub.status.idle": "2024-12-08T15:28:39.387533Z",
     "shell.execute_reply": "2024-12-08T15:28:39.387048Z",
     "shell.execute_reply.started": "2024-12-08T15:28:39.380937Z"
    }
   },
   "outputs": [],
   "source": [
    "samples = []\n",
    "\n",
    "with open('Data/oznaczenia.txt') as fp:\n",
    "    for line in fp.readlines():\n",
    "        [filename, end, start] = line[:-1].split(\"\\t\")\n",
    "        samples.append((filename, int(start), int(end)))\n",
    "\n",
    "samples"
   ]
  },
  {
   "cell_type": "code",
   "execution_count": null,
   "id": "7941f960-3eba-4db4-8feb-ca385352a28e",
   "metadata": {
    "ExecuteTime": {
     "end_time": "2024-12-08T15:03:33.536939Z",
     "start_time": "2024-12-08T15:02:49.795916Z"
    },
    "execution": {
     "iopub.execute_input": "2024-12-08T15:28:39.388256Z",
     "iopub.status.busy": "2024-12-08T15:28:39.388070Z",
     "iopub.status.idle": "2024-12-08T15:28:53.909769Z",
     "shell.execute_reply": "2024-12-08T15:28:53.909275Z",
     "shell.execute_reply.started": "2024-12-08T15:28:39.388239Z"
    }
   },
   "outputs": [],
   "source": [
    "import torch\n",
    "import nibabel as nib\n",
    "import random\n",
    "\n",
    "slices = []\n",
    "targets = []\n",
    "\n",
    "for filename, start, end in samples:\n",
    "    img = nib.load(f\"Data/{filename}\").get_fdata()\n",
    "    # Positive slices\n",
    "    for depth in range(start, end + 1):\n",
    "        s = img[:, :, depth]\n",
    "        slices.append(torch.tensor(s, dtype=torch.float).unsqueeze(0))\n",
    "        targets.append(1)\n",
    "    negative_indices = list(range(0, start)) + list(range(end, img.shape[2]))\n",
    "    print(filename)\n",
    "    chosen_negative_indices = random.sample(negative_indices, end - start + 1)\n",
    "    for depth in chosen_negative_indices:\n",
    "        s = img[:, :, depth]\n",
    "        slices.append(torch.tensor(s, dtype=torch.float).unsqueeze(0))\n",
    "        targets.append(0)\n",
    "    "
   ]
  },
  {
   "cell_type": "code",
   "execution_count": null,
   "id": "fa8cd3de-f81a-435b-a995-1ecbff092563",
   "metadata": {
    "ExecuteTime": {
     "end_time": "2024-12-08T15:03:51.333246Z",
     "start_time": "2024-12-08T15:03:50.873677Z"
    },
    "execution": {
     "iopub.execute_input": "2024-12-08T15:28:53.994499Z",
     "iopub.status.busy": "2024-12-08T15:28:53.994355Z",
     "iopub.status.idle": "2024-12-08T15:28:54.356936Z",
     "shell.execute_reply": "2024-12-08T15:28:54.356441Z",
     "shell.execute_reply.started": "2024-12-08T15:28:53.994484Z"
    }
   },
   "outputs": [],
   "source": [
    "from sklearn.model_selection import train_test_split\n",
    "\n",
    "X_train, X_test, y_train, y_test = train_test_split(slices, targets, test_size=0.2)\n",
    "print(len(X_train))\n",
    "print(f\"{sum(y_train)}/{len(y_train)}\")\n",
    "print(f\"{sum(y_test)}/{len(y_test)}\")\n",
    "print(len(X_test))"
   ]
  },
  {
   "cell_type": "code",
   "execution_count": null,
   "id": "e880867e",
   "metadata": {},
   "outputs": [],
   "source": [
    "resize_shape = 32"
   ]
  },
  {
   "cell_type": "code",
   "execution_count": null,
   "id": "f03c836e-2365-4864-8537-d30780dbb400",
   "metadata": {
    "ExecuteTime": {
     "end_time": "2024-12-08T15:04:10.603529Z",
     "start_time": "2024-12-08T15:04:09.634080Z"
    },
    "execution": {
     "iopub.execute_input": "2024-12-08T15:55:45.150140Z",
     "iopub.status.busy": "2024-12-08T15:55:45.149761Z",
     "iopub.status.idle": "2024-12-08T15:55:45.157086Z",
     "shell.execute_reply": "2024-12-08T15:55:45.156445Z",
     "shell.execute_reply.started": "2024-12-08T15:55:45.150113Z"
    }
   },
   "outputs": [],
   "source": [
    "from torch.utils.data import Dataset, DataLoader\n",
    "from torchvision import transforms\n",
    "import numpy as np\n",
    "from typing import List\n",
    "from sklearn.model_selection import train_test_split\n",
    "import torch.nn.functional as F\n",
    "\n",
    "class SlicesDataset:\n",
    "    def __init__(self, slices: torch.tensor, targets: List[bool], transform = None):\n",
    "        self.slices = slices\n",
    "        self.targets = torch.tensor(targets, dtype=torch.int64)\n",
    "        self.transform = transform\n",
    "\n",
    "    def __getitem__(self, idx):\n",
    "        s = self.transform(self.slices[idx]) if self.transform is not None else self.slices[idx]\n",
    "        target = F.one_hot(self.targets[idx], 2).float()\n",
    "        return s, target\n",
    "        \n",
    "    def __len__(self):\n",
    "        return len(self.targets)\n",
    "\n",
    "\n",
    "transform = transforms.Compose([\n",
    "    transforms.Resize((resize_shape, resize_shape)),\n",
    "    transforms.Normalize(mean=[0.485], std=[0.229]),\n",
    "    \n",
    "])\n",
    "\n",
    "train_dataset = SlicesDataset(X_train, y_train, transform)\n",
    "test_dataset = SlicesDataset(X_test, y_test, transform)\n",
    "\n",
    "train_loader = DataLoader(train_dataset, batch_size=128, shuffle=True)\n",
    "test_loader = DataLoader(test_dataset, batch_size=128, shuffle=False)"
   ]
  },
  {
   "cell_type": "code",
   "execution_count": null,
   "id": "bfceff08-759c-4693-8093-695da324f8d1",
   "metadata": {
    "ExecuteTime": {
     "end_time": "2024-12-08T15:04:11.683127Z",
     "start_time": "2024-12-08T15:04:10.934421Z"
    },
    "execution": {
     "iopub.execute_input": "2024-12-08T15:08:43.507348Z",
     "iopub.status.busy": "2024-12-08T15:08:43.506893Z",
     "iopub.status.idle": "2024-12-08T15:08:44.187392Z",
     "shell.execute_reply": "2024-12-08T15:08:44.186845Z",
     "shell.execute_reply.started": "2024-12-08T15:08:43.507328Z"
    }
   },
   "outputs": [],
   "source": [
    "import matplotlib.pyplot as plt\n",
    "\n",
    "s, target = next(iter(train_loader))\n",
    "\n",
    "print(target[0])\n",
    "plt.gray()\n",
    "plt.imshow(s[0][0])"
   ]
  },
  {
   "cell_type": "code",
   "execution_count": null,
   "id": "4dad8356-96a9-406d-810e-d3e538a9b064",
   "metadata": {
    "execution": {
     "iopub.execute_input": "2024-12-08T15:28:54.926946Z",
     "iopub.status.busy": "2024-12-08T15:28:54.926698Z",
     "iopub.status.idle": "2024-12-08T15:28:56.435504Z",
     "shell.execute_reply": "2024-12-08T15:28:56.434653Z",
     "shell.execute_reply.started": "2024-12-08T15:28:54.926931Z"
    }
   },
   "outputs": [],
   "source": [
    "device = torch.device(\"cuda\" if torch.cuda.is_available() else \"cpu\")"
   ]
  },
  {
   "cell_type": "code",
   "execution_count": null,
   "id": "01f87603-c1d6-4799-9bc7-201074d6e6dc",
   "metadata": {},
   "outputs": [],
   "source": [
    "from torchvision.models import densenet121\n",
    "from torch import nn\n",
    "\n",
    "\n",
    "model = densenet121(num_classes=2)\n",
    "model.conv1 = nn.Conv2d(1, 64, kernel_size=(7, 7), stride=(2, 2), padding=(3, 3), bias=False)\n",
    "model = model.to(device)\n",
    "model"
   ]
  },
  {
   "cell_type": "code",
   "execution_count": null,
   "id": "d73e3639-f7ab-4d48-b115-14387d714f91",
   "metadata": {
    "execution": {
     "iopub.execute_input": "2024-12-08T15:44:49.678848Z",
     "iopub.status.busy": "2024-12-08T15:44:49.678441Z",
     "iopub.status.idle": "2024-12-08T15:44:49.712372Z",
     "shell.execute_reply": "2024-12-08T15:44:49.711924Z",
     "shell.execute_reply.started": "2024-12-08T15:44:49.678827Z"
    }
   },
   "outputs": [],
   "source": [
    "import torch\n",
    "import torch.nn as nn\n",
    "import torch.nn.functional as F\n",
    "\n",
    "class SimpleCNN(nn.Module):\n",
    "    def __init__(self, num_classes=10, size=32):\n",
    "        \"\"\"\n",
    "        Initialize a Convolutional Neural Network with Batch Normalization.\n",
    "        \n",
    "        Args:\n",
    "            num_classes (int): Number of output classes (default: 10 for CIFAR-10)\n",
    "        \"\"\"\n",
    "        super(SimpleCNN, self).__init__()\n",
    "        \n",
    "        # Convolutional layers with batch normalization\n",
    "        self.conv1 = nn.Sequential(\n",
    "            nn.Conv2d(in_channels=1, out_channels=32, kernel_size=3, padding=1, bias=False),\n",
    "            nn.BatchNorm2d(32),\n",
    "            nn.ReLU(inplace=True)\n",
    "        )\n",
    "        \n",
    "        # self.conv2 = nn.Sequential(\n",
    "        #     nn.Conv2d(in_channels=32, out_channels=64, kernel_size=3, padding=1, bias=False),\n",
    "        #     nn.BatchNorm2d(64),\n",
    "        #     nn.ReLU(inplace=True)\n",
    "        # )\n",
    "        \n",
    "        # self.conv3 = nn.Sequential(\n",
    "        #     nn.Conv2d(in_channels=64, out_channels=128, kernel_size=3, padding=1, bias=False),\n",
    "        #     nn.BatchNorm2d(128),\n",
    "        #     nn.ReLU(inplace=True)\n",
    "        # )\n",
    "        \n",
    "        # Pooling layer\n",
    "        self.pool = nn.MaxPool2d(kernel_size=2, stride=2)\n",
    "        \n",
    "        # Fully connected layers\n",
    "        self.fc1 = nn.Sequential(\n",
    "            # nn.Linear(8192, 256),\n",
    "            nn.Linear(32 * (size // 2) * (size // 2), 256),\n",
    "            nn.ReLU(inplace=True),\n",
    "            nn.Dropout(0.20)\n",
    "        )\n",
    "        \n",
    "        self.fc2 = nn.Linear(256, num_classes)\n",
    "\n",
    "    \n",
    "    def forward(self, x):\n",
    "        # First convolutional block\n",
    "        x = self.pool(self.conv1(x))\n",
    "        \n",
    "        # Second convolutional block\n",
    "        # x = self.pool(self.conv2(x))\n",
    "        \n",
    "        # # Third convolutional block\n",
    "        # x = self.pool(self.conv3(x))\n",
    "        \n",
    "        # Flatten the tensor\n",
    "        x = x.view(x.size(0), -1)\n",
    "\n",
    "        # Fully connected layers with batch norm and dropout\n",
    "        x = self.fc1(x)\n",
    "        x = self.fc2(x)\n",
    "        \n",
    "        return x\n",
    "\n",
    "model = SimpleCNN(2, resize_shape).to(device)\n",
    "model"
   ]
  },
  {
   "cell_type": "code",
   "execution_count": null,
   "id": "50be932f-0bf6-436e-9cb5-2c902dd91000",
   "metadata": {
    "execution": {
     "iopub.execute_input": "2024-12-08T15:44:51.923061Z",
     "iopub.status.busy": "2024-12-08T15:44:51.922651Z",
     "iopub.status.idle": "2024-12-08T15:45:58.364317Z",
     "shell.execute_reply": "2024-12-08T15:45:58.363627Z",
     "shell.execute_reply.started": "2024-12-08T15:44:51.923043Z"
    },
    "scrolled": true
   },
   "outputs": [],
   "source": [
    "from tqdm import tqdm\n",
    "\n",
    "def train(model, train_loader, optimizer, criterion, device):\n",
    "    model.train()  # Set the model to training mode\n",
    "    running_loss = 0.0\n",
    "    correct = 0\n",
    "    total = 0\n",
    "    for images, labels in tqdm(train_loader, desc=\"Training Epoch\"):\n",
    "        images, labels = images.to(device), labels.to(device)\n",
    "\n",
    "        # Zero the gradients\n",
    "        optimizer.zero_grad()\n",
    "\n",
    "        # Forward pass\n",
    "        outputs = model(images)\n",
    "        loss = criterion(outputs, labels)\n",
    "\n",
    "        # Backward pass\n",
    "        loss.backward()\n",
    "        optimizer.step()\n",
    "\n",
    "        # Track the loss and accuracy\n",
    "        running_loss += loss.item()\n",
    "        _, predicted = torch.max(outputs, 1)\n",
    "        _, true_predictions = torch.max(labels, 1)\n",
    "        correct += (predicted == true_predictions).sum().item()\n",
    "        total += labels.size(0)\n",
    "\n",
    "    epoch_loss = running_loss / len(train_loader)\n",
    "    epoch_accuracy = correct / total * 100\n",
    "    return epoch_loss, epoch_accuracy\n",
    "\n",
    "# Testing loop\n",
    "def test(model, test_loader, criterion, device):\n",
    "    model.eval()  # Set the model to evaluation mode\n",
    "    running_loss = 0.0\n",
    "    correct = 0\n",
    "    total = 0\n",
    "    with torch.no_grad():  # No gradient computation during testing\n",
    "        for images, labels in tqdm(test_loader, desc=\"Testing\"):\n",
    "            images, labels = images.to(device), labels.to(device)\n",
    "\n",
    "            # Forward pass\n",
    "            outputs = model(images)\n",
    "            loss = criterion(outputs, labels)\n",
    "\n",
    "            # Track the loss and accuracy\n",
    "            running_loss += loss.item()\n",
    "            _, predicted = torch.max(outputs, 1)\n",
    "            _, true_predictions = torch.max(labels, 1)\n",
    "            correct += (predicted == true_predictions).sum().item()\n",
    "            total += labels.size(0)\n",
    "\n",
    "    epoch_loss = running_loss / len(test_loader)\n",
    "    epoch_accuracy = correct / total * 100\n",
    "    return epoch_loss, epoch_accuracy\n",
    "\n",
    "\n",
    "def train_loop(model, train_loader, test_loader, criterion, optimizer, device, num_epochs):\n",
    "    train_losses = []\n",
    "    test_losses = []\n",
    "    train_accuracies = []\n",
    "    test_accuracies = []\n",
    "    for epoch in range(num_epochs):\n",
    "        # Training\n",
    "        train_loss, train_accuracy = train(model, train_loader, optimizer, criterion, device)\n",
    "        print(f\"Epoch {epoch+1}/{num_epochs} - Train Loss: {train_loss:.4f}, Train Accuracy: {train_accuracy:.2f}%\")\n",
    "    \n",
    "        # Testing\n",
    "        test_loss, test_accuracy = test(model, test_loader, criterion, device)\n",
    "        print(f\"Epoch {epoch+1}/{num_epochs} - Test Loss: {test_loss:.4f}, Test Accuracy: {test_accuracy:.2f}%\")\n",
    "        train_losses.append(train_loss)\n",
    "        test_losses.append(test_loss)\n",
    "        train_accuracies.append(train_accuracy)\n",
    "        test_accuracies.append(test_accuracy)\n",
    "        # save the model\n",
    "        if (epoch + 1) % 100 == 0:\n",
    "            torch.save(model.state_dict(), f\"./Model/model_{epoch+1}.pt\")\n",
    "\n",
    "    return {\n",
    "        \"train_loss\": train_losses,\n",
    "        \"test_loss\": test_losses,\n",
    "        \"train_acc\": train_accuracies,\n",
    "        \"test_acc\": test_accuracies\n",
    "    }\n",
    "\n",
    "criterion = nn.CrossEntropyLoss()\n",
    "optimizer = torch.optim.Adam(model.parameters(), weight_decay=1e-5)\n",
    "\n",
    "history = train_loop(model, train_loader, test_loader, criterion, optimizer, device, 5)"
   ]
  },
  {
   "cell_type": "code",
   "execution_count": null,
   "id": "ccd1e65f-2627-49bb-a281-56d55a87a359",
   "metadata": {
    "execution": {
     "iopub.execute_input": "2024-12-08T15:45:58.392286Z",
     "iopub.status.busy": "2024-12-08T15:45:58.392159Z",
     "iopub.status.idle": "2024-12-08T15:45:58.395217Z",
     "shell.execute_reply": "2024-12-08T15:45:58.394828Z",
     "shell.execute_reply.started": "2024-12-08T15:45:58.392273Z"
    }
   },
   "outputs": [],
   "source": [
    "history[\"test_acc\"][-10:]"
   ]
  },
  {
   "cell_type": "code",
   "execution_count": null,
   "id": "d68c071e-c78f-4ef4-a4da-336afe1a162c",
   "metadata": {
    "execution": {
     "iopub.execute_input": "2024-12-08T15:46:15.904394Z",
     "iopub.status.busy": "2024-12-08T15:46:15.903999Z",
     "iopub.status.idle": "2024-12-08T15:46:15.971320Z",
     "shell.execute_reply": "2024-12-08T15:46:15.970667Z",
     "shell.execute_reply.started": "2024-12-08T15:46:15.904363Z"
    }
   },
   "outputs": [],
   "source": [
    "import matplotlib.pyplot as plt\n",
    "\n",
    "epochs = list(range(len(history[\"test_acc\"])))\n",
    "plt.plot(epochs, history[\"train_loss\"], label=\"Train loss\")\n",
    "plt.plot(epochs, history[\"test_loss\"], label=\"Test loss\")"
   ]
  },
  {
   "cell_type": "code",
   "execution_count": null,
   "id": "099f03ad-2275-4662-945a-88eb77149625",
   "metadata": {
    "execution": {
     "iopub.execute_input": "2024-12-08T16:54:07.835965Z",
     "iopub.status.busy": "2024-12-08T16:54:07.835622Z",
     "iopub.status.idle": "2024-12-08T16:54:09.313414Z",
     "shell.execute_reply": "2024-12-08T16:54:09.312717Z",
     "shell.execute_reply.started": "2024-12-08T16:54:07.835948Z"
    }
   },
   "outputs": [],
   "source": [
    "import random\n",
    "\n",
    "ct = nib.load(f\"Data/0004_1_.nii.gz\").get_fdata()\n",
    "\n",
    "slices = []\n",
    "labels = []\n",
    "for depth in range(ct.shape[2]):\n",
    "    slices.append(torch.tensor(ct[:, :, depth], dtype=torch.float).unsqueeze(0))\n",
    "    label = 1 if depth >= start and depth <= end else 0\n",
    "    labels.append(label)\n",
    "\n",
    "transform = transforms.Compose([\n",
    "    transforms.Resize((resize_shape, resize_shape)),\n",
    "    transforms.Normalize(mean=[0.485], std=[0.229]),\n",
    "])\n",
    "\n",
    "validation_dataset = SlicesDataset(slices, labels, transform=transform)\n",
    "validation_loader = DataLoader(validation_dataset, batch_size=32, shuffle=False)\n",
    "\n",
    "test(model, validation_loader, criterion, device)"
   ]
  },
  {
   "cell_type": "code",
   "execution_count": null,
   "id": "9e65123b-dea5-4b98-bff8-625969670375",
   "metadata": {
    "execution": {
     "iopub.execute_input": "2024-12-08T16:54:16.440739Z",
     "iopub.status.busy": "2024-12-08T16:54:16.440468Z",
     "iopub.status.idle": "2024-12-08T16:54:16.926443Z",
     "shell.execute_reply": "2024-12-08T16:54:16.925854Z",
     "shell.execute_reply.started": "2024-12-08T16:54:16.440720Z"
    }
   },
   "outputs": [],
   "source": [
    "def make_classification(model, ct, device, transform=transform):\n",
    "    result = []\n",
    "    for depth in range(ct.shape[2]):\n",
    "        s = transform(torch.tensor(ct[:, :, depth], dtype=torch.float, device=device).unsqueeze(0))\n",
    "        c = torch.argmax(model(s.unsqueeze(0))).item()\n",
    "        result.append(c)\n",
    "    # print(set(result))\n",
    "    return result\n",
    "\n",
    "classification = make_classification(model, ct, device)"
   ]
  },
  {
   "cell_type": "code",
   "execution_count": null,
   "id": "ada0fe2a-2f39-4eaf-8f77-1e711f35a114",
   "metadata": {},
   "outputs": [],
   "source": [
    "classification"
   ]
  },
  {
   "cell_type": "code",
   "execution_count": null,
   "id": "7f7f5e33-ba51-4664-936e-450842cc7976",
   "metadata": {
    "execution": {
     "iopub.execute_input": "2024-12-08T16:59:53.656869Z",
     "iopub.status.busy": "2024-12-08T16:59:53.656251Z",
     "iopub.status.idle": "2024-12-08T16:59:53.663416Z",
     "shell.execute_reply": "2024-12-08T16:59:53.662893Z",
     "shell.execute_reply.started": "2024-12-08T16:59:53.656836Z"
    }
   },
   "outputs": [],
   "source": [
    "def find_voi(classification, n_neigh=3):\n",
    "    result = []\n",
    "    for i in range(len(classification)):\n",
    "        left = classification[max(0, i - n_neigh):i + 1]\n",
    "        right = classification[i:min(len(classification), i + n_neigh)]\n",
    "        decision = int((all(left) and len(left) != 1) or (all(right) and len(right) != 1))\n",
    "        result.append(decision)\n",
    "    start = result.index(1)\n",
    "    end = start + sum(result)\n",
    "    return start, end\n",
    "\n",
    "print(start, end)\n",
    "find_voi(classification, n_neigh=10)"
   ]
  },
  {
   "cell_type": "code",
   "execution_count": null,
   "id": "1c57208f-ce43-442d-851a-cda0fe0e860d",
   "metadata": {
    "execution": {
     "iopub.execute_input": "2024-12-08T17:04:14.620531Z",
     "iopub.status.busy": "2024-12-08T17:04:14.620033Z",
     "iopub.status.idle": "2024-12-08T17:04:39.182325Z",
     "shell.execute_reply": "2024-12-08T17:04:39.181795Z",
     "shell.execute_reply.started": "2024-12-08T17:04:14.620502Z"
    }
   },
   "outputs": [],
   "source": [
    "import pandas as pd\n",
    "\n",
    "n_neigh = 10\n",
    "\n",
    "data = {\n",
    "    \"sample\": list(),\n",
    "    \"start\": list(),\n",
    "    \"end\": list(),\n",
    "    \"predicted_start\": list(),\n",
    "    \"predicted_end\": list(),\n",
    "    \"metric\": list()\n",
    "}\n",
    "\n",
    "# # load model\n",
    "# model = SimpleCNN(2, 32).to(device)\n",
    "# model.load_state_dict(torch.load(\"./Model/old_model_300.pt\"))\n",
    "\n",
    "for sample, start, end in samples:\n",
    "    print(sample)\n",
    "    ct = nib.load(f\"Data/{sample}\").get_fdata()\n",
    "    classification = make_classification(model, ct, device)\n",
    "    predicted_start, predicted_end = find_voi(classification, n_neigh)\n",
    "    metric = abs(predicted_start - start) + abs(predicted_end - end)\n",
    "    data[\"sample\"].append(sample)\n",
    "    data[\"start\"].append(start)\n",
    "    data[\"end\"].append(end)\n",
    "    data[\"predicted_start\"].append(predicted_start)\n",
    "    data[\"predicted_end\"].append(predicted_end)\n",
    "    data[\"metric\"].append(metric)\n",
    "\n",
    "df = pd.DataFrame(data)"
   ]
  },
  {
   "cell_type": "code",
   "execution_count": null,
   "id": "8d845617",
   "metadata": {},
   "outputs": [],
   "source": [
    "df"
   ]
  },
  {
   "cell_type": "code",
   "execution_count": null,
   "id": "82348504-d755-47a7-ae03-52f27bd770f8",
   "metadata": {
    "execution": {
     "iopub.execute_input": "2024-12-08T17:04:39.216270Z",
     "iopub.status.busy": "2024-12-08T17:04:39.215927Z",
     "iopub.status.idle": "2024-12-08T17:04:39.219677Z",
     "shell.execute_reply": "2024-12-08T17:04:39.219226Z",
     "shell.execute_reply.started": "2024-12-08T17:04:39.216252Z"
    }
   },
   "outputs": [],
   "source": [
    "df[\"metric\"].mean()"
   ]
  },
  {
   "cell_type": "markdown",
   "id": "40be4b66",
   "metadata": {},
   "source": [
    "# Test"
   ]
  },
  {
   "cell_type": "code",
   "execution_count": null,
   "id": "518d797f",
   "metadata": {},
   "outputs": [],
   "source": [
    "test_transform = transforms.Compose([\n",
    "    transforms.Resize((resize_shape, resize_shape)),\n",
    "    transforms.Normalize(mean=[0.485], std=[0.229]),\n",
    "])"
   ]
  },
  {
   "cell_type": "code",
   "execution_count": null,
   "id": "f739049d",
   "metadata": {},
   "outputs": [],
   "source": [
    "from glob import glob\n",
    "\n",
    "model_files = glob(\"./Model/*.pt\")\n",
    "model_files.sort()\n",
    "\n",
    "\n",
    "\n",
    "data = {\n",
    "    \"sample\": list(),\n",
    "    \"start\": list(),\n",
    "    \"end\": list(),\n",
    "    \"predicted_start\": list(),\n",
    "    \"predicted_end\": list(),\n",
    "    \"metric\": list()\n",
    "}\n",
    "\n",
    "samples = []\n",
    "\n",
    "with open('TestData/ranges.txt') as fp:\n",
    "    for line in fp.readlines():\n",
    "        [filename, start, end] = line[:-1].split(\" \")\n",
    "\n",
    "        samples.append((filename, int(start), int(end)))\n",
    "\n",
    "\n",
    "        \n",
    "for sample, start, end in samples:\n",
    "    print(sample)\n",
    "    ct = nib.load(f\"TestData/{sample}\").get_fdata()\n",
    "    classification = make_classification(model, ct, device)\n",
    "    try:\n",
    "        predicted_start, predicted_end = find_voi(classification, n_neigh)\n",
    "    except ValueError:\n",
    "        predicted_start, predicted_end = 0, 0\n",
    "    metric = abs(predicted_start - start) + abs(predicted_end - end)\n",
    "    data[\"sample\"].append(sample)\n",
    "    data[\"start\"].append(start)\n",
    "    data[\"end\"].append(end)\n",
    "    data[\"predicted_start\"].append(predicted_start)\n",
    "    data[\"predicted_end\"].append(predicted_end)\n",
    "    data[\"metric\"].append(metric)\n",
    "\n",
    "df = pd.DataFrame(data)"
   ]
  },
  {
   "cell_type": "code",
   "execution_count": null,
   "id": "4fb8171f",
   "metadata": {},
   "outputs": [],
   "source": [
    "df[\"metric\"].mean()"
   ]
  }
 ],
 "metadata": {
  "kernelspec": {
   "display_name": "torch",
   "language": "python",
   "name": "python3"
  },
  "language_info": {
   "codemirror_mode": {
    "name": "ipython",
    "version": 3
   },
   "file_extension": ".py",
   "mimetype": "text/x-python",
   "name": "python",
   "nbconvert_exporter": "python",
   "pygments_lexer": "ipython3",
   "version": "3.12.7"
  }
 },
 "nbformat": 4,
 "nbformat_minor": 5
}
