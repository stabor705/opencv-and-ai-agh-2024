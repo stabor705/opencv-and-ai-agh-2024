{
 "cells": [
  {
   "cell_type": "code",
   "execution_count": 1,
   "id": "8b266d87-0f9a-4eb7-908e-796dbb6d7850",
   "metadata": {
    "execution": {
     "iopub.execute_input": "2024-12-04T18:04:13.901124Z",
     "iopub.status.busy": "2024-12-04T18:04:13.900989Z",
     "iopub.status.idle": "2024-12-04T18:04:13.906622Z",
     "shell.execute_reply": "2024-12-04T18:04:13.906275Z",
     "shell.execute_reply.started": "2024-12-04T18:04:13.901110Z"
    }
   },
   "outputs": [
    {
     "data": {
      "text/plain": [
       "[('0001_1_.nii.gz', 105, 137),\n",
       " ('0001_2_.nii.gz', 100, 132),\n",
       " ('0002_1_.nii.gz', 93, 130),\n",
       " ('0002_2_.nii.gz', 87, 123),\n",
       " ('0003_1_.nii.gz', 100, 131),\n",
       " ('0003_2_.nii.gz', 101, 133),\n",
       " ('0004_1_.nii.gz', 169, 200),\n",
       " ('0004_2_.nii.gz', 162, 191),\n",
       " ('0005_1_.nii.gz', 120, 151),\n",
       " ('0006_1_.nii.gz', 183, 214),\n",
       " ('0006_2_.nii.gz', 179, 212),\n",
       " ('0007_1_.nii.gz', 189, 222),\n",
       " ('0007_2_.nii.gz', 108, 145),\n",
       " ('0008_1_.nii.gz', 186, 216),\n",
       " ('0008_2_.nii.gz', 169, 199),\n",
       " ('0009_1_.nii.gz', 183, 219),\n",
       " ('0009_2_.nii.gz', 173, 212),\n",
       " ('0010_1_.nii.gz', 168, 197),\n",
       " ('0010_2_.nii.gz', 104, 134)]"
      ]
     },
     "execution_count": 1,
     "metadata": {},
     "output_type": "execute_result"
    }
   ],
   "source": [
    "samples = []\n",
    "\n",
    "with open('Data/oznaczenia.txt') as fp:\n",
    "    for line in fp.readlines():\n",
    "        [filename, end, start] = line[:-1].split(\"\\t\")\n",
    "        samples.append((filename, int(start), int(end)))\n",
    "\n",
    "samples"
   ]
  },
  {
   "cell_type": "code",
   "execution_count": 2,
   "id": "7941f960-3eba-4db4-8feb-ca385352a28e",
   "metadata": {
    "execution": {
     "iopub.execute_input": "2024-12-04T18:04:13.907218Z",
     "iopub.status.busy": "2024-12-04T18:04:13.907094Z",
     "iopub.status.idle": "2024-12-04T18:04:25.417078Z",
     "shell.execute_reply": "2024-12-04T18:04:25.416537Z",
     "shell.execute_reply.started": "2024-12-04T18:04:13.907205Z"
    }
   },
   "outputs": [],
   "source": [
    "import torch\n",
    "import nibabel as nib\n",
    "import random\n",
    "\n",
    "slices = []\n",
    "targets = []\n",
    "\n",
    "for filename, start, end in samples:\n",
    "    img = nib.load(f\"Data/{filename}\").get_fdata()\n",
    "    # Positive slices\n",
    "    for depth in range(start, end + 1):\n",
    "        s = img[:, :, depth]\n",
    "        slices.append(torch.tensor(s, dtype=torch.float).unsqueeze(0))\n",
    "        targets.append(1)\n",
    "    negative_indices = list(range(0, start)) + list(range(end, img.shape[2]))\n",
    "    chosen_negative_indices = random.sample(negative_indices, end - start + 1)\n",
    "    for depth in chosen_negative_indices:\n",
    "        s = img[:, :, depth]\n",
    "        slices.append(torch.tensor(s, dtype=torch.float).unsqueeze(0))\n",
    "        targets.append(0)\n",
    "    "
   ]
  },
  {
   "cell_type": "code",
   "execution_count": 3,
   "id": "fa8cd3de-f81a-435b-a995-1ecbff092563",
   "metadata": {
    "execution": {
     "iopub.execute_input": "2024-12-04T18:04:25.418192Z",
     "iopub.status.busy": "2024-12-04T18:04:25.417930Z",
     "iopub.status.idle": "2024-12-04T18:04:25.745376Z",
     "shell.execute_reply": "2024-12-04T18:04:25.744949Z",
     "shell.execute_reply.started": "2024-12-04T18:04:25.418176Z"
    }
   },
   "outputs": [
    {
     "name": "stdout",
     "output_type": "stream",
     "text": [
      "1020\n",
      "512/1020\n",
      "126/256\n",
      "256\n"
     ]
    }
   ],
   "source": [
    "from sklearn.model_selection import train_test_split\n",
    "\n",
    "X_train, X_test, y_train, y_test = train_test_split(slices, targets, test_size=0.2)\n",
    "print(len(X_train))\n",
    "print(f\"{sum(y_train)}/{len(y_train)}\")\n",
    "print(f\"{sum(y_test)}/{len(y_test)}\")\n",
    "print(len(X_test))"
   ]
  },
  {
   "cell_type": "code",
   "execution_count": 4,
   "id": "f03c836e-2365-4864-8537-d30780dbb400",
   "metadata": {
    "execution": {
     "iopub.execute_input": "2024-12-04T18:04:25.746296Z",
     "iopub.status.busy": "2024-12-04T18:04:25.746004Z",
     "iopub.status.idle": "2024-12-04T18:04:26.386450Z",
     "shell.execute_reply": "2024-12-04T18:04:26.385918Z",
     "shell.execute_reply.started": "2024-12-04T18:04:25.746277Z"
    }
   },
   "outputs": [],
   "source": [
    "from torch.utils.data import Dataset, DataLoader\n",
    "from torchvision import transforms\n",
    "import numpy as np\n",
    "from typing import List\n",
    "from sklearn.model_selection import train_test_split\n",
    "import torch.nn.functional as F\n",
    "\n",
    "\n",
    "class SlicesDataset:\n",
    "    def __init__(self, slices: torch.tensor, targets: List[bool], transform = None):\n",
    "        self.slices = slices\n",
    "        self.targets = torch.tensor(targets, dtype=torch.int64)\n",
    "\n",
    "    def __getitem__(self, idx):\n",
    "        s = transform(self.slices[idx]) if transform is not None else self.slices[idx]\n",
    "        target = F.one_hot(self.targets[idx], 2).float()\n",
    "        return s, target\n",
    "        \n",
    "    def __len__(self):\n",
    "        return len(self.targets)\n",
    "\n",
    "\n",
    "transform = transforms.Compose([\n",
    "    transforms.Resize((256, 256)),\n",
    "    transforms.Normalize(mean=[0.485], std=[0.229]),\n",
    "])\n",
    "\n",
    "train_dataset = SlicesDataset(X_train, y_train, transform)\n",
    "test_dataset = SlicesDataset(X_test, y_test, transform)\n",
    "\n",
    "train_loader = DataLoader(train_dataset, batch_size=16, shuffle=True)\n",
    "test_loader = DataLoader(test_dataset, batch_size=16, shuffle=False)"
   ]
  },
  {
   "cell_type": "code",
   "execution_count": 5,
   "id": "bfceff08-759c-4693-8093-695da324f8d1",
   "metadata": {
    "execution": {
     "iopub.execute_input": "2024-12-04T18:04:26.388529Z",
     "iopub.status.busy": "2024-12-04T18:04:26.388250Z",
     "iopub.status.idle": "2024-12-04T18:04:26.953453Z",
     "shell.execute_reply": "2024-12-04T18:04:26.952923Z",
     "shell.execute_reply.started": "2024-12-04T18:04:26.388514Z"
    }
   },
   "outputs": [
    {
     "name": "stdout",
     "output_type": "stream",
     "text": [
      "tensor([1., 0.])\n"
     ]
    },
    {
     "data": {
      "text/plain": [
       "<matplotlib.image.AxesImage at 0x757eb45711b0>"
      ]
     },
     "execution_count": 5,
     "metadata": {},
     "output_type": "execute_result"
    },
    {
     "data": {
      "image/png": "[encoded data removed]",
      "text/plain": [
       "<Figure size 432x288 with 1 Axes>"
      ]
     },
     "metadata": {
      "needs_background": "light"
     },
     "output_type": "display_data"
    }
   ],
   "source": [
    "import matplotlib.pyplot as plt\n",
    "\n",
    "s, target = next(iter(train_loader))\n",
    "\n",
    "print(target[0])\n",
    "plt.gray()\n",
    "plt.imshow(s[0][0])"
   ]
  },
  {
   "cell_type": "code",
   "execution_count": 6,
   "id": "01f87603-c1d6-4799-9bc7-201074d6e6dc",
   "metadata": {
    "execution": {
     "iopub.execute_input": "2024-12-04T18:04:26.954430Z",
     "iopub.status.busy": "2024-12-04T18:04:26.954176Z",
     "iopub.status.idle": "2024-12-04T18:04:28.690886Z",
     "shell.execute_reply": "2024-12-04T18:04:28.690460Z",
     "shell.execute_reply.started": "2024-12-04T18:04:26.954408Z"
    }
   },
   "outputs": [],
   "source": [
    "from torchvision.models import densenet121\n",
    "from torch import nn\n",
    "\n",
    "device = torch.device(\"cuda\" if torch.cuda.is_available() else \"cpu\")\n",
    "\n",
    "model = densenet121(num_classes=2)\n",
    "model.features[0] = nn.Conv2d(1, 64, kernel_size=(7, 7), stride=(2, 2), padding=(3, 3), bias=False)\n",
    "model = model.to(device)"
   ]
  },
  {
   "cell_type": "code",
   "execution_count": 7,
   "id": "50be932f-0bf6-436e-9cb5-2c902dd91000",
   "metadata": {
    "execution": {
     "iopub.execute_input": "2024-12-04T18:04:28.691615Z",
     "iopub.status.busy": "2024-12-04T18:04:28.691465Z",
     "iopub.status.idle": "2024-12-04T18:05:49.038616Z",
     "shell.execute_reply": "2024-12-04T18:05:49.038053Z",
     "shell.execute_reply.started": "2024-12-04T18:04:28.691602Z"
    }
   },
   "outputs": [
    {
     "name": "stderr",
     "output_type": "stream",
     "text": [
      "Training Epoch: 100%|███████████████████████████████████████████████████████████████████████████████████████████████████████████████████████████████████████████| 64/64 [00:15<00:00,  4.16it/s]\n"
     ]
    },
    {
     "name": "stdout",
     "output_type": "stream",
     "text": [
      "Epoch 1/5 - Train Loss: 0.2765, Train Accuracy: 88.33%\n"
     ]
    },
    {
     "name": "stderr",
     "output_type": "stream",
     "text": [
      "Testing: 100%|██████████████████████████████████████████████████████████████████████████████████████████████████████████████████████████████████████████████████| 16/16 [00:01<00:00, 13.73it/s]\n"
     ]
    },
    {
     "name": "stdout",
     "output_type": "stream",
     "text": [
      "Epoch 1/5 - Test Loss: 1.6518, Test Accuracy: 55.47%\n"
     ]
    },
    {
     "name": "stderr",
     "output_type": "stream",
     "text": [
      "Training Epoch: 100%|███████████████████████████████████████████████████████████████████████████████████████████████████████████████████████████████████████████| 64/64 [00:14<00:00,  4.34it/s]\n"
     ]
    },
    {
     "name": "stdout",
     "output_type": "stream",
     "text": [
      "Epoch 2/5 - Train Loss: 0.1747, Train Accuracy: 94.22%\n"
     ]
    },
    {
     "name": "stderr",
     "output_type": "stream",
     "text": [
      "Testing: 100%|██████████████████████████████████████████████████████████████████████████████████████████████████████████████████████████████████████████████████| 16/16 [00:01<00:00, 13.53it/s]\n"
     ]
    },
    {
     "name": "stdout",
     "output_type": "stream",
     "text": [
      "Epoch 2/5 - Test Loss: 0.1000, Test Accuracy: 97.27%\n"
     ]
    },
    {
     "name": "stderr",
     "output_type": "stream",
     "text": [
      "Training Epoch: 100%|███████████████████████████████████████████████████████████████████████████████████████████████████████████████████████████████████████████| 64/64 [00:14<00:00,  4.34it/s]\n"
     ]
    },
    {
     "name": "stdout",
     "output_type": "stream",
     "text": [
      "Epoch 3/5 - Train Loss: 0.1579, Train Accuracy: 95.20%\n"
     ]
    },
    {
     "name": "stderr",
     "output_type": "stream",
     "text": [
      "Testing: 100%|██████████████████████████████████████████████████████████████████████████████████████████████████████████████████████████████████████████████████| 16/16 [00:01<00:00, 13.65it/s]\n"
     ]
    },
    {
     "name": "stdout",
     "output_type": "stream",
     "text": [
      "Epoch 3/5 - Test Loss: 0.2027, Test Accuracy: 94.14%\n"
     ]
    },
    {
     "name": "stderr",
     "output_type": "stream",
     "text": [
      "Training Epoch: 100%|███████████████████████████████████████████████████████████████████████████████████████████████████████████████████████████████████████████| 64/64 [00:14<00:00,  4.33it/s]\n"
     ]
    },
    {
     "name": "stdout",
     "output_type": "stream",
     "text": [
      "Epoch 4/5 - Train Loss: 0.1573, Train Accuracy: 93.82%\n"
     ]
    },
    {
     "name": "stderr",
     "output_type": "stream",
     "text": [
      "Testing: 100%|██████████████████████████████████████████████████████████████████████████████████████████████████████████████████████████████████████████████████| 16/16 [00:01<00:00, 13.54it/s]\n"
     ]
    },
    {
     "name": "stdout",
     "output_type": "stream",
     "text": [
      "Epoch 4/5 - Test Loss: 0.2384, Test Accuracy: 89.84%\n"
     ]
    },
    {
     "name": "stderr",
     "output_type": "stream",
     "text": [
      "Training Epoch: 100%|███████████████████████████████████████████████████████████████████████████████████████████████████████████████████████████████████████████| 64/64 [00:14<00:00,  4.33it/s]\n"
     ]
    },
    {
     "name": "stdout",
     "output_type": "stream",
     "text": [
      "Epoch 5/5 - Train Loss: 0.1236, Train Accuracy: 95.49%\n"
     ]
    },
    {
     "name": "stderr",
     "output_type": "stream",
     "text": [
      "Testing: 100%|██████████████████████████████████████████████████████████████████████████████████████████████████████████████████████████████████████████████████| 16/16 [00:01<00:00, 13.57it/s]"
     ]
    },
    {
     "name": "stdout",
     "output_type": "stream",
     "text": [
      "Epoch 5/5 - Test Loss: 0.0751, Test Accuracy: 96.88%\n"
     ]
    },
    {
     "name": "stderr",
     "output_type": "stream",
     "text": [
      "\n"
     ]
    }
   ],
   "source": [
    "from tqdm import tqdm\n",
    "\n",
    "def train(model, train_loader, optimizer, criterion, device):\n",
    "    model.train()  # Set the model to training mode\n",
    "    running_loss = 0.0\n",
    "    correct = 0\n",
    "    total = 0\n",
    "    for images, labels in tqdm(train_loader, desc=\"Training Epoch\"):\n",
    "        images, labels = images.to(device), labels.to(device)\n",
    "\n",
    "        # Zero the gradients\n",
    "        optimizer.zero_grad()\n",
    "\n",
    "        # Forward pass\n",
    "        outputs = model(images)\n",
    "        loss = criterion(outputs, labels)\n",
    "\n",
    "        # Backward pass\n",
    "        loss.backward()\n",
    "        optimizer.step()\n",
    "\n",
    "        # Track the loss and accuracy\n",
    "        running_loss += loss.item()\n",
    "        _, predicted = torch.max(outputs, 1)\n",
    "        _, true_predictions = torch.max(labels, 1)\n",
    "        correct += (predicted == true_predictions).sum().item()\n",
    "        total += labels.size(0)\n",
    "\n",
    "    epoch_loss = running_loss / len(train_loader)\n",
    "    epoch_accuracy = correct / total * 100\n",
    "    return epoch_loss, epoch_accuracy\n",
    "\n",
    "# Testing loop\n",
    "def test(model, test_loader, criterion, device):\n",
    "    model.eval()  # Set the model to evaluation mode\n",
    "    running_loss = 0.0\n",
    "    correct = 0\n",
    "    total = 0\n",
    "    with torch.no_grad():  # No gradient computation during testing\n",
    "        for images, labels in tqdm(test_loader, desc=\"Testing\"):\n",
    "            images, labels = images.to(device), labels.to(device)\n",
    "\n",
    "            # Forward pass\n",
    "            outputs = model(images)\n",
    "            loss = criterion(outputs, labels)\n",
    "\n",
    "            # Track the loss and accuracy\n",
    "            running_loss += loss.item()\n",
    "            _, predicted = torch.max(outputs, 1)\n",
    "            _, true_predictions = torch.max(labels, 1)\n",
    "            correct += (predicted == true_predictions).sum().item()\n",
    "            total += labels.size(0)\n",
    "\n",
    "    epoch_loss = running_loss / len(test_loader)\n",
    "    epoch_accuracy = correct / total * 100\n",
    "    return epoch_loss, epoch_accuracy\n",
    "\n",
    "\n",
    "def train_loop(model, train_loader, test_loader, criterion, optimizer, device, num_epochs):\n",
    "    for epoch in range(num_epochs):\n",
    "        # Training\n",
    "        train_loss, train_accuracy = train(model, train_loader, optimizer, criterion, device)\n",
    "        print(f\"Epoch {epoch+1}/{num_epochs} - Train Loss: {train_loss:.4f}, Train Accuracy: {train_accuracy:.2f}%\")\n",
    "    \n",
    "        # Testing\n",
    "        test_loss, test_accuracy = test(model, test_loader, criterion, device)\n",
    "        print(f\"Epoch {epoch+1}/{num_epochs} - Test Loss: {test_loss:.4f}, Test Accuracy: {test_accuracy:.2f}%\")\n",
    "\n",
    "criterion = nn.CrossEntropyLoss()\n",
    "optimizer = torch.optim.Adam(model.parameters())\n",
    "\n",
    "train_loop(model, train_loader, test_loader, criterion, optimizer, device, 5)"
   ]
  }
 ],
 "metadata": {
  "kernelspec": {
   "display_name": "Python 3 (ipykernel)",
   "language": "python",
   "name": "python3"
  },
  "language_info": {
   "codemirror_mode": {
    "name": "ipython",
    "version": 3
   },
   "file_extension": ".py",
   "mimetype": "text/x-python",
   "name": "python",
   "nbconvert_exporter": "python",
   "pygments_lexer": "ipython3",
   "version": "3.10.12"
  }
 },
 "nbformat": 4,
 "nbformat_minor": 5
}
