{
 "cells": [
  {
   "cell_type": "code",
   "execution_count": 1,
   "id": "00cf1245-3548-4970-838a-032b5e7a1c49",
   "metadata": {
    "execution": {
     "iopub.execute_input": "2024-11-10T21:35:07.746469Z",
     "iopub.status.busy": "2024-11-10T21:35:07.746309Z",
     "iopub.status.idle": "2024-11-10T21:35:08.304087Z",
     "shell.execute_reply": "2024-11-10T21:35:08.303596Z",
     "shell.execute_reply.started": "2024-11-10T21:35:07.746455Z"
    }
   },
   "outputs": [
    {
     "data": {
      "image/png": "[encoded data removed]",
      "text/plain": [
       "<Figure size 432x288 with 1 Axes>"
      ]
     },
     "metadata": {
      "needs_background": "light"
     },
     "output_type": "display_data"
    }
   ],
   "source": [
    "import numpy as np\n",
    "import matplotlib.pyplot as plt\n",
    "from skimage.draw import ellipse\n",
    "\n",
    "# Create a blank white image\n",
    "width, height = 256, 256\n",
    "image = np.zeros((height, width), dtype=np.uint8)\n",
    "\n",
    "x = 110\n",
    "y = 50\n",
    "d = y / 1.2 # 1.1 - 1.2\n",
    "\n",
    "# Define the center and axes for the ellipse\n",
    "center1 = (256 / 2, 256 / 2 + d)  # (row, col)\n",
    "center2 = (256 / 2, 256 / 2 - d)  # (row, col)\n",
    "axis_lengths = (x, y)  # (vertical axis, horizontal axis) 90-110, 50-70\n",
    "\n",
    "# Draw the ellipse\n",
    "rr, cc = ellipse(center1[0], center1[1], axis_lengths[0], axis_lengths[1], shape=image.shape)\n",
    "image[rr, cc] = 255  # Black color for the ellipse\n",
    "rr, cc = ellipse(center2[0], center2[1], axis_lengths[0], axis_lengths[1], shape=image.shape)\n",
    "image[rr, cc] = 255  # Black color for the ellipse\n",
    "\n",
    "rr, cc = ellipse(center2[0] + 30, center2[1] - 40, 10, 10, shape=image.shape) # size - (10, 10) - (\n",
    "image[rr, cc] = 0  # Black color for the ellipse\n",
    "\n",
    "# Display the image using matplotlib\n",
    "plt.imshow(image, cmap='gray')\n",
    "plt.axis('off')  # Turn off axis for better visualization\n",
    "plt.show()\n",
    "\n",
    "# Optionally, save the image\n",
    "# plt.imsave('ellipse_skimage.png', image, cmap='gray')\n"
   ]
  },
  {
   "cell_type": "code",
   "execution_count": 2,
   "id": "54891c3e-b840-4e09-a735-beec1406a8c6",
   "metadata": {
    "execution": {
     "iopub.execute_input": "2024-11-10T21:35:08.305090Z",
     "iopub.status.busy": "2024-11-10T21:35:08.304848Z",
     "iopub.status.idle": "2024-11-10T21:35:08.434005Z",
     "shell.execute_reply": "2024-11-10T21:35:08.433402Z",
     "shell.execute_reply.started": "2024-11-10T21:35:08.305073Z"
    }
   },
   "outputs": [
    {
     "data": {
      "text/plain": [
       "<matplotlib.image.AxesImage at 0x7a3b4778e470>"
      ]
     },
     "execution_count": 2,
     "metadata": {},
     "output_type": "execute_result"
    },
    {
     "data": {
      "image/png": "[encoded data removed]",
      "text/plain": [
       "<Figure size 432x288 with 1 Axes>"
      ]
     },
     "metadata": {
      "needs_background": "light"
     },
     "output_type": "display_data"
    }
   ],
   "source": [
    "import random\n",
    "import matplotlib.pyplot as plt\n",
    "import numpy as np\n",
    "from skimage.draw import ellipse\n",
    "\n",
    "def create_artificial_lung(min_r, max_r, min_c, max_c, width=256, height=256):\n",
    "    img = np.zeros((height, width), dtype=np.uint8)\n",
    "    r1 = random.randint(min_r, max_r)\n",
    "    c1 = random.randint(min_c, max_c)\n",
    "    y1, x1 = height / 2, width / 2\n",
    "    rr, cc = ellipse(y1, x1, r1, c1, shape=img.shape)\n",
    "    img[rr, cc] = 255\n",
    "    return img\n",
    "    \n",
    "min_r = 90\n",
    "max_r = 110\n",
    "min_c = 50\n",
    "max_c = 70\n",
    "\n",
    "plt.imshow(create_artificial_lung(min_r, max_r, min_c, max_c))"
   ]
  },
  {
   "cell_type": "code",
   "execution_count": 3,
   "id": "944e7609-3bdf-416f-b041-3734ed2608a5",
   "metadata": {
    "execution": {
     "iopub.execute_input": "2024-11-10T21:35:08.434887Z",
     "iopub.status.busy": "2024-11-10T21:35:08.434698Z",
     "iopub.status.idle": "2024-11-10T21:35:08.512857Z",
     "shell.execute_reply": "2024-11-10T21:35:08.512355Z",
     "shell.execute_reply.started": "2024-11-10T21:35:08.434873Z"
    }
   },
   "outputs": [
    {
     "data": {
      "text/plain": [
       "<matplotlib.image.AxesImage at 0x7a3b45595db0>"
      ]
     },
     "execution_count": 3,
     "metadata": {},
     "output_type": "execute_result"
    },
    {
     "data": {
      "image/png": "[encoded data removed]",
      "text/plain": [
       "<Figure size 432x288 with 1 Axes>"
      ]
     },
     "metadata": {
      "needs_background": "light"
     },
     "output_type": "display_data"
    }
   ],
   "source": [
    "example_img = create_artificial_lung(min_r, max_r, min_c, max_c)\n",
    "\n",
    "def make_holed_lung(img, min_num_of_holes, max_num_of_holes, min_size, max_size, min_dx, max_dx, min_dy, max_dy, width=256, height=256):\n",
    "    new_img = img.copy()\n",
    "    num_of_holes = random.randint(min_num_of_holes, max_num_of_holes)\n",
    "    for _ in range(num_of_holes):\n",
    "        size = random.randint(min_size, max_size)\n",
    "        dx = random.randint(min_dx, max_dx)\n",
    "        dy = random.randint(min_dy, max_dy)\n",
    "        y = height / 2 - dy\n",
    "        x = width / 2 - dx\n",
    "        rr, cc = ellipse(y, x, size, size, shape=new_img.shape)\n",
    "        new_img[rr, cc] = 0\n",
    "    return new_img\n",
    "\n",
    "img = make_holed_lung(example_img, 1, 4, 10, 40, -60, 60, -60, 60)\n",
    "plt.gray()\n",
    "plt.imshow(img)\n",
    "        "
   ]
  },
  {
   "cell_type": "code",
   "execution_count": 4,
   "id": "a7a9867a-1461-4cd3-96f4-3f830062b36f",
   "metadata": {
    "execution": {
     "iopub.execute_input": "2024-11-10T21:35:08.514095Z",
     "iopub.status.busy": "2024-11-10T21:35:08.513670Z",
     "iopub.status.idle": "2024-11-10T21:35:08.629928Z",
     "shell.execute_reply": "2024-11-10T21:35:08.629497Z",
     "shell.execute_reply.started": "2024-11-10T21:35:08.514072Z"
    }
   },
   "outputs": [
    {
     "data": {
      "text/plain": [
       "<matplotlib.image.AxesImage at 0x7a3b45583460>"
      ]
     },
     "execution_count": 4,
     "metadata": {},
     "output_type": "execute_result"
    },
    {
     "data": {
      "image/png": "[encoded data removed]",
      "text/plain": [
       "<Figure size 432x288 with 2 Axes>"
      ]
     },
     "metadata": {
      "needs_background": "light"
     },
     "output_type": "display_data"
    }
   ],
   "source": [
    "min_r = 90\n",
    "max_r = 110\n",
    "min_c = 50\n",
    "max_c = 70\n",
    "min_d_coeff = 1.1\n",
    "max_d_coeff = 1.2\n",
    "min_num_of_holes = 1\n",
    "max_num_of_holes = 4\n",
    "min_size = 10\n",
    "max_size = 40\n",
    "min_dx = -60\n",
    "max_dx = 60\n",
    "min_dy = -60\n",
    "max_dy = 60\n",
    "\n",
    "def create_sample():\n",
    "    lung = create_artificial_lung(min_r, max_r, min_c, max_c)\n",
    "    holed_lung = make_holed_lung(lung, min_num_of_holes, max_num_of_holes, min_size, max_size, min_dx, max_dx, min_dy, max_dy)\n",
    "    return lung, holed_lung\n",
    "\n",
    "lung, holed_lung = create_sample()\n",
    "\n",
    "fig, axes = plt.subplots(nrows=1, ncols=2)\n",
    "axes[0].imshow(lung)\n",
    "axes[1].imshow(holed_lung)\n",
    "    "
   ]
  },
  {
   "cell_type": "code",
   "execution_count": 5,
   "id": "c8a52efa-8a93-4d2d-b473-f29c5a07d591",
   "metadata": {
    "execution": {
     "iopub.execute_input": "2024-11-10T21:35:08.631835Z",
     "iopub.status.busy": "2024-11-10T21:35:08.631578Z",
     "iopub.status.idle": "2024-11-10T21:35:15.993875Z",
     "shell.execute_reply": "2024-11-10T21:35:15.993319Z",
     "shell.execute_reply.started": "2024-11-10T21:35:08.631820Z"
    }
   },
   "outputs": [
    {
     "data": {
      "text/plain": [
       "<matplotlib.image.AxesImage at 0x7a3b5b3cdfc0>"
      ]
     },
     "execution_count": 5,
     "metadata": {},
     "output_type": "execute_result"
    },
    {
     "data": {
      "image/png": "[encoded data removed]",
      "text/plain": [
       "<Figure size 432x288 with 2 Axes>"
      ]
     },
     "metadata": {
      "needs_background": "light"
     },
     "output_type": "display_data"
    }
   ],
   "source": [
    "from sklearn.model_selection import train_test_split\n",
    "\n",
    "data_size = 10000\n",
    "\n",
    "data = [create_sample() for _ in range(data_size)]\n",
    "Y = [d[0] for d in data]\n",
    "X = [d[1] for d in data]\n",
    "X_train, X_test, Y_train, Y_test = train_test_split(X, Y, test_size=0.2)\n",
    "\n",
    "fix, axes = plt.subplots(nrows=1, ncols=2)\n",
    "\n",
    "axes[0].imshow(X[0])\n",
    "axes[1].imshow(Y[0])"
   ]
  },
  {
   "cell_type": "code",
   "execution_count": 6,
   "id": "b5679ca8-9d81-43fa-956f-b310e7fcd440",
   "metadata": {
    "execution": {
     "iopub.execute_input": "2024-11-10T21:35:15.995084Z",
     "iopub.status.busy": "2024-11-10T21:35:15.994583Z",
     "iopub.status.idle": "2024-11-10T21:35:17.074896Z",
     "shell.execute_reply": "2024-11-10T21:35:17.074366Z",
     "shell.execute_reply.started": "2024-11-10T21:35:15.995059Z"
    }
   },
   "outputs": [],
   "source": [
    "import torch\n",
    "\n",
    "device = \"cuda\" if torch.cuda.is_available() else \"cpu\""
   ]
  },
  {
   "cell_type": "code",
   "execution_count": 7,
   "id": "42d5e749-e457-432a-b46c-d3bd7b062dec",
   "metadata": {
    "execution": {
     "iopub.execute_input": "2024-11-10T21:35:17.075835Z",
     "iopub.status.busy": "2024-11-10T21:35:17.075664Z",
     "iopub.status.idle": "2024-11-10T21:35:17.226244Z",
     "shell.execute_reply": "2024-11-10T21:35:17.225650Z",
     "shell.execute_reply.started": "2024-11-10T21:35:17.075820Z"
    }
   },
   "outputs": [
    {
     "name": "stdout",
     "output_type": "stream",
     "text": [
      "Autoencoder(\n",
      "  (encoder): Sequential(\n",
      "    (0): Conv2d(1, 32, kernel_size=(3, 3), stride=(1, 1), padding=(1, 1))\n",
      "    (1): BatchNorm2d(32, eps=1e-05, momentum=0.1, affine=True, track_running_stats=True)\n",
      "    (2): ReLU()\n",
      "    (3): MaxPool2d(kernel_size=2, stride=2, padding=0, dilation=1, ceil_mode=False)\n",
      "    (4): Conv2d(32, 16, kernel_size=(3, 3), stride=(1, 1), padding=(1, 1))\n",
      "    (5): BatchNorm2d(16, eps=1e-05, momentum=0.1, affine=True, track_running_stats=True)\n",
      "    (6): ReLU()\n",
      "    (7): MaxPool2d(kernel_size=2, stride=2, padding=0, dilation=1, ceil_mode=False)\n",
      "    (8): Conv2d(16, 8, kernel_size=(3, 3), stride=(1, 1), padding=(1, 1))\n",
      "    (9): BatchNorm2d(8, eps=1e-05, momentum=0.1, affine=True, track_running_stats=True)\n",
      "    (10): ReLU()\n",
      "  )\n",
      "  (decoder): Sequential(\n",
      "    (0): Conv2d(8, 16, kernel_size=(3, 3), stride=(1, 1), padding=(1, 1))\n",
      "    (1): BatchNorm2d(16, eps=1e-05, momentum=0.1, affine=True, track_running_stats=True)\n",
      "    (2): ReLU()\n",
      "    (3): Upsample(scale_factor=2.0, mode='nearest')\n",
      "    (4): Conv2d(16, 32, kernel_size=(3, 3), stride=(1, 1), padding=(1, 1))\n",
      "    (5): BatchNorm2d(32, eps=1e-05, momentum=0.1, affine=True, track_running_stats=True)\n",
      "    (6): ReLU()\n",
      "    (7): Upsample(scale_factor=2.0, mode='nearest')\n",
      "    (8): Conv2d(32, 1, kernel_size=(3, 3), stride=(1, 1), padding=(1, 1))\n",
      "    (9): Sigmoid()\n",
      "  )\n",
      ")\n"
     ]
    }
   ],
   "source": [
    "from torch import nn\n",
    "\n",
    "class Autoencoder(nn.Module):\n",
    "    def __init__(self):\n",
    "        super(Autoencoder, self).__init__()\n",
    "\n",
    "        self.encoder = nn.Sequential(\n",
    "            nn.Conv2d(1, 32, kernel_size=3, padding=1),\n",
    "            nn.BatchNorm2d(32),\n",
    "            nn.ReLU(),\n",
    "            nn.MaxPool2d(2, 2),\n",
    "            nn.Conv2d(32, 16, kernel_size=3, padding=1),\n",
    "            nn.BatchNorm2d(16),\n",
    "            nn.ReLU(),\n",
    "            nn.MaxPool2d(2, 2),\n",
    "            nn.Conv2d(16, 8, kernel_size=3, padding=1),\n",
    "            nn.BatchNorm2d(8),\n",
    "            nn.ReLU()\n",
    "        )\n",
    "\n",
    "        self.decoder = nn.Sequential(\n",
    "            nn.Conv2d(8, 16, kernel_size=3, padding=1),\n",
    "            nn.BatchNorm2d(16),\n",
    "            nn.ReLU(),\n",
    "            nn.Upsample(scale_factor=2),\n",
    "            nn.Conv2d(16, 32, kernel_size=3, padding=1),\n",
    "            nn.BatchNorm2d(32),\n",
    "            nn.ReLU(),\n",
    "            nn.Upsample(scale_factor=2),\n",
    "            nn.Conv2d(32, 1, kernel_size=3, padding=1),\n",
    "            nn.Sigmoid()\n",
    "        )\n",
    "\n",
    "    def forward(self, x):\n",
    "        x = self.encoder(x)\n",
    "        x = self.decoder(x)\n",
    "        return x\n",
    "\n",
    "model = Autoencoder().to(device)\n",
    "print(model)"
   ]
  },
  {
   "cell_type": "code",
   "execution_count": 8,
   "id": "cdf18710-e923-43c5-a896-cded047246ff",
   "metadata": {
    "execution": {
     "iopub.execute_input": "2024-11-10T21:35:17.227238Z",
     "iopub.status.busy": "2024-11-10T21:35:17.227063Z",
     "iopub.status.idle": "2024-11-10T21:35:17.247163Z",
     "shell.execute_reply": "2024-11-10T21:35:17.246485Z",
     "shell.execute_reply.started": "2024-11-10T21:35:17.227220Z"
    }
   },
   "outputs": [
    {
     "name": "stdout",
     "output_type": "stream",
     "text": [
      "ResidualAutoencoder(\n",
      "  (enc_conv1): Sequential(\n",
      "    (0): Conv2d(1, 32, kernel_size=(3, 3), stride=(1, 1), padding=(1, 1))\n",
      "    (1): BatchNorm2d(32, eps=1e-05, momentum=0.1, affine=True, track_running_stats=True)\n",
      "    (2): ReLU()\n",
      "  )\n",
      "  (enc_res1): ResidualBlock(\n",
      "    (conv1): Conv2d(32, 32, kernel_size=(3, 3), stride=(1, 1), padding=(1, 1))\n",
      "    (bn1): BatchNorm2d(32, eps=1e-05, momentum=0.1, affine=True, track_running_stats=True)\n",
      "    (relu): ReLU()\n",
      "    (conv2): Conv2d(32, 32, kernel_size=(3, 3), stride=(1, 1), padding=(1, 1))\n",
      "    (bn2): BatchNorm2d(32, eps=1e-05, momentum=0.1, affine=True, track_running_stats=True)\n",
      "  )\n",
      "  (enc_pool1): MaxPool2d(kernel_size=2, stride=2, padding=0, dilation=1, ceil_mode=False)\n",
      "  (enc_conv2): Sequential(\n",
      "    (0): Conv2d(32, 16, kernel_size=(3, 3), stride=(1, 1), padding=(1, 1))\n",
      "    (1): BatchNorm2d(16, eps=1e-05, momentum=0.1, affine=True, track_running_stats=True)\n",
      "    (2): ReLU()\n",
      "  )\n",
      "  (enc_res2): ResidualBlock(\n",
      "    (conv1): Conv2d(16, 16, kernel_size=(3, 3), stride=(1, 1), padding=(1, 1))\n",
      "    (bn1): BatchNorm2d(16, eps=1e-05, momentum=0.1, affine=True, track_running_stats=True)\n",
      "    (relu): ReLU()\n",
      "    (conv2): Conv2d(16, 16, kernel_size=(3, 3), stride=(1, 1), padding=(1, 1))\n",
      "    (bn2): BatchNorm2d(16, eps=1e-05, momentum=0.1, affine=True, track_running_stats=True)\n",
      "  )\n",
      "  (enc_pool2): MaxPool2d(kernel_size=2, stride=2, padding=0, dilation=1, ceil_mode=False)\n",
      "  (enc_conv3): Sequential(\n",
      "    (0): Conv2d(16, 8, kernel_size=(3, 3), stride=(1, 1), padding=(1, 1))\n",
      "    (1): BatchNorm2d(8, eps=1e-05, momentum=0.1, affine=True, track_running_stats=True)\n",
      "    (2): ReLU()\n",
      "  )\n",
      "  (enc_res3): ResidualBlock(\n",
      "    (conv1): Conv2d(8, 8, kernel_size=(3, 3), stride=(1, 1), padding=(1, 1))\n",
      "    (bn1): BatchNorm2d(8, eps=1e-05, momentum=0.1, affine=True, track_running_stats=True)\n",
      "    (relu): ReLU()\n",
      "    (conv2): Conv2d(8, 8, kernel_size=(3, 3), stride=(1, 1), padding=(1, 1))\n",
      "    (bn2): BatchNorm2d(8, eps=1e-05, momentum=0.1, affine=True, track_running_stats=True)\n",
      "  )\n",
      "  (dec_conv1): Sequential(\n",
      "    (0): Conv2d(8, 16, kernel_size=(3, 3), stride=(1, 1), padding=(1, 1))\n",
      "    (1): BatchNorm2d(16, eps=1e-05, momentum=0.1, affine=True, track_running_stats=True)\n",
      "    (2): ReLU()\n",
      "  )\n",
      "  (dec_res1): ResidualBlock(\n",
      "    (conv1): Conv2d(16, 16, kernel_size=(3, 3), stride=(1, 1), padding=(1, 1))\n",
      "    (bn1): BatchNorm2d(16, eps=1e-05, momentum=0.1, affine=True, track_running_stats=True)\n",
      "    (relu): ReLU()\n",
      "    (conv2): Conv2d(16, 16, kernel_size=(3, 3), stride=(1, 1), padding=(1, 1))\n",
      "    (bn2): BatchNorm2d(16, eps=1e-05, momentum=0.1, affine=True, track_running_stats=True)\n",
      "  )\n",
      "  (dec_up1): Upsample(scale_factor=2.0, mode='nearest')\n",
      "  (dec_conv2): Sequential(\n",
      "    (0): Conv2d(16, 32, kernel_size=(3, 3), stride=(1, 1), padding=(1, 1))\n",
      "    (1): BatchNorm2d(32, eps=1e-05, momentum=0.1, affine=True, track_running_stats=True)\n",
      "    (2): ReLU()\n",
      "  )\n",
      "  (dec_res2): ResidualBlock(\n",
      "    (conv1): Conv2d(32, 32, kernel_size=(3, 3), stride=(1, 1), padding=(1, 1))\n",
      "    (bn1): BatchNorm2d(32, eps=1e-05, momentum=0.1, affine=True, track_running_stats=True)\n",
      "    (relu): ReLU()\n",
      "    (conv2): Conv2d(32, 32, kernel_size=(3, 3), stride=(1, 1), padding=(1, 1))\n",
      "    (bn2): BatchNorm2d(32, eps=1e-05, momentum=0.1, affine=True, track_running_stats=True)\n",
      "  )\n",
      "  (dec_up2): Upsample(scale_factor=2.0, mode='nearest')\n",
      "  (dec_conv3): Sequential(\n",
      "    (0): Conv2d(32, 32, kernel_size=(3, 3), stride=(1, 1), padding=(1, 1))\n",
      "    (1): BatchNorm2d(32, eps=1e-05, momentum=0.1, affine=True, track_running_stats=True)\n",
      "    (2): ReLU()\n",
      "  )\n",
      "  (dec_res3): ResidualBlock(\n",
      "    (conv1): Conv2d(32, 32, kernel_size=(3, 3), stride=(1, 1), padding=(1, 1))\n",
      "    (bn1): BatchNorm2d(32, eps=1e-05, momentum=0.1, affine=True, track_running_stats=True)\n",
      "    (relu): ReLU()\n",
      "    (conv2): Conv2d(32, 32, kernel_size=(3, 3), stride=(1, 1), padding=(1, 1))\n",
      "    (bn2): BatchNorm2d(32, eps=1e-05, momentum=0.1, affine=True, track_running_stats=True)\n",
      "  )\n",
      "  (final_conv): Sequential(\n",
      "    (0): Conv2d(32, 1, kernel_size=(3, 3), stride=(1, 1), padding=(1, 1))\n",
      "    (1): Sigmoid()\n",
      "  )\n",
      ")\n"
     ]
    }
   ],
   "source": [
    "class ResidualBlock(nn.Module):\n",
    "    def __init__(self, channels):\n",
    "        super(ResidualBlock, self).__init__()\n",
    "        self.conv1 = nn.Conv2d(channels, channels, kernel_size=3, padding=1)\n",
    "        self.bn1 = nn.BatchNorm2d(channels)\n",
    "        self.relu = nn.ReLU()\n",
    "        self.conv2 = nn.Conv2d(channels, channels, kernel_size=3, padding=1)\n",
    "        self.bn2 = nn.BatchNorm2d(channels)\n",
    "\n",
    "    def forward(self, x):\n",
    "        residual = x\n",
    "        out = self.conv1(x)\n",
    "        out = self.bn1(out)\n",
    "        out = self.relu(out)\n",
    "        out = self.conv2(out)\n",
    "        out = self.bn2(out)\n",
    "        out += residual  # Add skip connection\n",
    "        out = self.relu(out)\n",
    "        return out\n",
    "\n",
    "class ResidualAutoencoder(nn.Module):\n",
    "    def __init__(self):\n",
    "        super(ResidualAutoencoder, self).__init__()\n",
    "        \n",
    "        # Encoder layers with residual blocks\n",
    "        self.enc_conv1 = nn.Sequential(\n",
    "            nn.Conv2d(1, 32, kernel_size=3, padding=1),\n",
    "            nn.BatchNorm2d(32),\n",
    "            nn.ReLU()\n",
    "        )\n",
    "        self.enc_res1 = ResidualBlock(32)\n",
    "        self.enc_pool1 = nn.MaxPool2d(2, 2)\n",
    "        \n",
    "        self.enc_conv2 = nn.Sequential(\n",
    "            nn.Conv2d(32, 16, kernel_size=3, padding=1),\n",
    "            nn.BatchNorm2d(16),\n",
    "            nn.ReLU()\n",
    "        )\n",
    "        self.enc_res2 = ResidualBlock(16)\n",
    "        self.enc_pool2 = nn.MaxPool2d(2, 2)\n",
    "        \n",
    "        self.enc_conv3 = nn.Sequential(\n",
    "            nn.Conv2d(16, 8, kernel_size=3, padding=1),\n",
    "            nn.BatchNorm2d(8),\n",
    "            nn.ReLU()\n",
    "        )\n",
    "        self.enc_res3 = ResidualBlock(8)\n",
    "        \n",
    "        # Decoder layers with residual blocks and skip connections\n",
    "        self.dec_conv1 = nn.Sequential(\n",
    "            nn.Conv2d(8, 16, kernel_size=3, padding=1),\n",
    "            nn.BatchNorm2d(16),\n",
    "            nn.ReLU()\n",
    "        )\n",
    "        self.dec_res1 = ResidualBlock(16)\n",
    "        self.dec_up1 = nn.Upsample(scale_factor=2)\n",
    "        \n",
    "        self.dec_conv2 = nn.Sequential(\n",
    "            nn.Conv2d(16, 32, kernel_size=3, padding=1),\n",
    "            nn.BatchNorm2d(32),\n",
    "            nn.ReLU()\n",
    "        )\n",
    "        self.dec_res2 = ResidualBlock(32)\n",
    "        self.dec_up2 = nn.Upsample(scale_factor=2)\n",
    "        \n",
    "        self.dec_conv3 = nn.Sequential(\n",
    "            nn.Conv2d(32, 32, kernel_size=3, padding=1),\n",
    "            nn.BatchNorm2d(32),\n",
    "            nn.ReLU()\n",
    "        )\n",
    "        self.dec_res3 = ResidualBlock(32)\n",
    "        \n",
    "        # Final output layer\n",
    "        self.final_conv = nn.Sequential(\n",
    "            nn.Conv2d(32, 1, kernel_size=3, padding=1),\n",
    "            nn.Sigmoid()\n",
    "        )\n",
    "\n",
    "    def forward(self, x):\n",
    "        # Encoder path with residual connections\n",
    "        e1 = self.enc_conv1(x)\n",
    "        e1 = self.enc_res1(e1)\n",
    "        p1 = self.enc_pool1(e1)\n",
    "        \n",
    "        e2 = self.enc_conv2(p1)\n",
    "        e2 = self.enc_res2(e2)\n",
    "        p2 = self.enc_pool2(e2)\n",
    "        \n",
    "        e3 = self.enc_conv3(p2)\n",
    "        e3 = self.enc_res3(e3)\n",
    "        \n",
    "        # Decoder path with residual connections and skip connections\n",
    "        d1 = self.dec_conv1(e3)\n",
    "        d1 = self.dec_res1(d1)\n",
    "        u1 = self.dec_up1(d1)\n",
    "        # Add skip connection from encoder\n",
    "        u1 = u1 + e2\n",
    "        \n",
    "        d2 = self.dec_conv2(u1)\n",
    "        d2 = self.dec_res2(d2)\n",
    "        u2 = self.dec_up2(d2)\n",
    "        # Add skip connection from encoder\n",
    "        u2 = u2 + e1\n",
    "        \n",
    "        d3 = self.dec_conv3(u2)\n",
    "        d3 = self.dec_res3(d3)\n",
    "        \n",
    "        # Final output\n",
    "        out = self.final_conv(d3)\n",
    "        \n",
    "        return out\n",
    "\n",
    "model = ResidualAutoencoder().to(device)\n",
    "print(model)"
   ]
  },
  {
   "cell_type": "code",
   "execution_count": 9,
   "id": "67ff7a36-a2a6-4429-8a1a-1ad1e67e3a37",
   "metadata": {
    "execution": {
     "iopub.execute_input": "2024-11-10T21:35:17.248381Z",
     "iopub.status.busy": "2024-11-10T21:35:17.248073Z",
     "iopub.status.idle": "2024-11-10T21:35:28.214344Z",
     "shell.execute_reply": "2024-11-10T21:35:28.208361Z",
     "shell.execute_reply.started": "2024-11-10T21:35:17.248359Z"
    }
   },
   "outputs": [],
   "source": [
    "from typing import List\n",
    "\n",
    "from torch.utils.data import Dataset, DataLoader\n",
    "from torchvision import transforms\n",
    "\n",
    "train_transform = transforms.Compose([\n",
    "    transforms.RandomResizedCrop(256, scale=(0.8, 1.0)),\n",
    "    transforms.RandomRotation(30),\n",
    "    transforms.RandomAffine(degrees=0, translate=(0.3, 0.3))\n",
    "])\n",
    "\n",
    "class EllipsesDataset(Dataset):\n",
    "    def __init__(self, noisy_data: List[np.array], data: List[np.array], transform=None):\n",
    "        self.noisy_data = [torch.clamp(torch.tensor(nd, dtype=torch.float).unsqueeze(0), max=1.0) for nd in noisy_data]\n",
    "        self.data = [torch.clamp(torch.tensor(d, dtype=torch.float).unsqueeze(0), max=1.0) for d in data]\n",
    "        self.transform = transform\n",
    "\n",
    "    def __len__(self):\n",
    "        return len(self.noisy_data)\n",
    "\n",
    "    def __getitem__(self, idx):\n",
    "        if self.transform is not None:\n",
    "            state = torch.get_rng_state()\n",
    "            noisy_img = self.transform(self.noisy_data[idx])\n",
    "            torch.set_rng_state(state)\n",
    "            img = self.transform(self.data[idx])\n",
    "            return noisy_img, img\n",
    "        else:\n",
    "            return self.noisy_data[idx], self.data[idx]\n",
    "\n",
    "\n",
    "train_dataset = EllipsesDataset(X_train, Y_train, transform=train_transform)\n",
    "test_dataset = EllipsesDataset(X_test, Y_test, transform=train_transform)\n",
    "\n",
    "# TODO: Add augmentation\n",
    "\n",
    "train_loader = DataLoader(train_dataset, batch_size=16, shuffle=True)\n",
    "test_loader = DataLoader(test_dataset, batch_size=16, shuffle=False)"
   ]
  },
  {
   "cell_type": "code",
   "execution_count": 10,
   "id": "a882aa2f-8290-416f-a50c-71c44ffcb751",
   "metadata": {
    "execution": {
     "iopub.execute_input": "2024-11-10T21:35:28.224730Z",
     "iopub.status.busy": "2024-11-10T21:35:28.221995Z",
     "iopub.status.idle": "2024-11-10T21:35:28.243783Z",
     "shell.execute_reply": "2024-11-10T21:35:28.242895Z",
     "shell.execute_reply.started": "2024-11-10T21:35:28.224701Z"
    }
   },
   "outputs": [],
   "source": [
    "import os\n",
    "\n",
    "def train(model, train_loader, criterion, optimizer, save_dir, num_epochs=10, device='cuda'):\n",
    "    losses = list()\n",
    "    for epoch in range(num_epochs):\n",
    "        running_loss = 0.0\n",
    "        for batch_idx, (noisy_data, data) in enumerate(train_loader):\n",
    "            noisy_data, data = noisy_data.to(device), data.to(device)\n",
    "            # Zero the gradients\n",
    "            optimizer.zero_grad()\n",
    "            \n",
    "            # Forward pass\n",
    "            outputs = model(noisy_data)\n",
    "            loss = criterion(outputs, data)\n",
    "            \n",
    "            # Backward pass and optimize\n",
    "            loss.backward()\n",
    "            optimizer.step()\n",
    "            \n",
    "            running_loss += loss.item()\n",
    "            \n",
    "        epoch_loss = running_loss / len(train_loader)\n",
    "        losses.append(epoch_loss)\n",
    "        torch.save(model.state_dict(), f\"model_epoch_{epoch + 1}_state_dict.pth\")\n",
    "        print(f'Epoch [{epoch+1}/{num_epochs}], Loss: {epoch_loss:.4f}')\n",
    "    return {\n",
    "        \"loss\": losses\n",
    "    }"
   ]
  },
  {
   "cell_type": "code",
   "execution_count": 11,
   "id": "dbeb68ad-99c0-4dd5-a05d-3a2cef509f92",
   "metadata": {
    "execution": {
     "iopub.execute_input": "2024-11-10T21:35:28.245571Z",
     "iopub.status.busy": "2024-11-10T21:35:28.245093Z",
     "iopub.status.idle": "2024-11-10T21:41:20.374287Z",
     "shell.execute_reply": "2024-11-10T21:41:20.373561Z",
     "shell.execute_reply.started": "2024-11-10T21:35:28.245550Z"
    }
   },
   "outputs": [
    {
     "name": "stdout",
     "output_type": "stream",
     "text": [
      "Epoch [1/2], Loss: 0.0413\n",
      "Epoch [2/2], Loss: 0.0182\n"
     ]
    }
   ],
   "source": [
    "criterion = nn.BCELoss()\n",
    "optimizer = torch.optim.Adam(model.parameters())\n",
    "\n",
    "history = train(model, train_loader, criterion, optimizer, \"lab-2\", num_epochs=30)"
   ]
  },
  {
   "cell_type": "code",
   "execution_count": 13,
   "id": "26af4ef5-9431-49d2-a36b-ebdb2b2357d6",
   "metadata": {
    "execution": {
     "iopub.execute_input": "2024-11-10T21:41:30.114173Z",
     "iopub.status.busy": "2024-11-10T21:41:30.113747Z",
     "iopub.status.idle": "2024-11-10T21:41:30.118007Z",
     "shell.execute_reply": "2024-11-10T21:41:30.117425Z",
     "shell.execute_reply.started": "2024-11-10T21:41:30.114150Z"
    }
   },
   "outputs": [],
   "source": [
    "import pickle\n",
    "\n",
    "with open(\"history.pkl\", \"wb\") as fp:\n",
    "    pickle.dump(history, fp)"
   ]
  },
  {
   "cell_type": "code",
   "execution_count": 14,
   "id": "1d639fae-222e-4daa-a311-40d49ac854d6",
   "metadata": {
    "execution": {
     "iopub.execute_input": "2024-11-10T21:41:33.576759Z",
     "iopub.status.busy": "2024-11-10T21:41:33.576492Z",
     "iopub.status.idle": "2024-11-10T21:41:33.690758Z",
     "shell.execute_reply": "2024-11-10T21:41:33.690119Z",
     "shell.execute_reply.started": "2024-11-10T21:41:33.576743Z"
    }
   },
   "outputs": [],
   "source": [
    "noisy_data, data = next(iter(test_loader))\n",
    "noisy_data, data = noisy_data.to(device), data.to(device)\n",
    "\n",
    "outputs = model(noisy_data)"
   ]
  },
  {
   "cell_type": "code",
   "execution_count": 15,
   "id": "dbb81520-9da1-4063-a5cf-67465a02f53b",
   "metadata": {
    "execution": {
     "iopub.execute_input": "2024-11-10T21:41:35.171246Z",
     "iopub.status.busy": "2024-11-10T21:41:35.170869Z",
     "iopub.status.idle": "2024-11-10T21:41:35.312416Z",
     "shell.execute_reply": "2024-11-10T21:41:35.311699Z",
     "shell.execute_reply.started": "2024-11-10T21:41:35.171228Z"
    }
   },
   "outputs": [
    {
     "data": {
      "text/plain": [
       "<matplotlib.image.AxesImage at 0x7a3a3818b8e0>"
      ]
     },
     "execution_count": 15,
     "metadata": {},
     "output_type": "execute_result"
    },
    {
     "data": {
      "image/png": "[encoded data removed]",
      "text/plain": [
       "<Figure size 432x288 with 1 Axes>"
      ]
     },
     "metadata": {
      "needs_background": "light"
     },
     "output_type": "display_data"
    }
   ],
   "source": [
    "plt.imshow(outputs[2].squeeze().detach().cpu().numpy() > 0.5)"
   ]
  },
  {
   "cell_type": "code",
   "execution_count": 16,
   "id": "990b609f-3260-4462-8cfc-a3c686e4d542",
   "metadata": {
    "execution": {
     "iopub.execute_input": "2024-11-10T21:41:36.847370Z",
     "iopub.status.busy": "2024-11-10T21:41:36.847110Z",
     "iopub.status.idle": "2024-11-10T21:41:36.927666Z",
     "shell.execute_reply": "2024-11-10T21:41:36.926914Z",
     "shell.execute_reply.started": "2024-11-10T21:41:36.847354Z"
    }
   },
   "outputs": [
    {
     "data": {
      "text/plain": [
       "<matplotlib.image.AxesImage at 0x7a3b0a3adea0>"
      ]
     },
     "execution_count": 16,
     "metadata": {},
     "output_type": "execute_result"
    },
    {
     "data": {
      "image/png": "[encoded data removed]",
      "text/plain": [
       "<Figure size 432x288 with 1 Axes>"
      ]
     },
     "metadata": {
      "needs_background": "light"
     },
     "output_type": "display_data"
    }
   ],
   "source": [
    "plt.imshow(noisy_data[2].squeeze().detach().cpu().numpy())"
   ]
  },
  {
   "cell_type": "code",
   "execution_count": null,
   "id": "13ad75ea-1bce-49b7-97ad-0eb275336ba5",
   "metadata": {},
   "outputs": [],
   "source": []
  }
 ],
 "metadata": {
  "kernelspec": {
   "display_name": "Python 3 (ipykernel)",
   "language": "python",
   "name": "python3"
  },
  "language_info": {
   "codemirror_mode": {
    "name": "ipython",
    "version": 3
   },
   "file_extension": ".py",
   "mimetype": "text/x-python",
   "name": "python",
   "nbconvert_exporter": "python",
   "pygments_lexer": "ipython3",
   "version": "3.10.12"
  }
 },
 "nbformat": 4,
 "nbformat_minor": 5
}
