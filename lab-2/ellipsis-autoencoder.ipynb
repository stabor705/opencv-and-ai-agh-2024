{
 "cells": [
  {
   "cell_type": "code",
   "execution_count": 42,
   "id": "00cf1245-3548-4970-838a-032b5e7a1c49",
   "metadata": {
    "execution": {
     "iopub.execute_input": "2024-11-06T16:21:29.374907Z",
     "iopub.status.busy": "2024-11-06T16:21:29.374584Z",
     "iopub.status.idle": "2024-11-06T16:21:29.428907Z",
     "shell.execute_reply": "2024-11-06T16:21:29.428182Z",
     "shell.execute_reply.started": "2024-11-06T16:21:29.374883Z"
    }
   },
   "outputs": [
    {
     "data": {
      "image/png": "[encoded data removed]",
      "text/plain": [
       "<Figure size 432x288 with 1 Axes>"
      ]
     },
     "metadata": {
      "needs_background": "light"
     },
     "output_type": "display_data"
    }
   ],
   "source": [
    "import numpy as np\n",
    "import matplotlib.pyplot as plt\n",
    "from skimage.draw import ellipse\n",
    "\n",
    "# Create a blank white image\n",
    "width, height = 256, 256\n",
    "image = np.zeros((height, width), dtype=np.uint8)\n",
    "\n",
    "x = 110\n",
    "y = 50\n",
    "d = y / 1.2 # 1.1 - 1.2\n",
    "\n",
    "# Define the center and axes for the ellipse\n",
    "center1 = (256 / 2, 256 / 2 + d)  # (row, col)\n",
    "center2 = (256 / 2, 256 / 2 - d)  # (row, col)\n",
    "axis_lengths = (x, y)  # (vertical axis, horizontal axis) 90-110, 50-70\n",
    "\n",
    "# Draw the ellipse\n",
    "rr, cc = ellipse(center1[0], center1[1], axis_lengths[0], axis_lengths[1], shape=image.shape)\n",
    "image[rr, cc] = 255  # Black color for the ellipse\n",
    "rr, cc = ellipse(center2[0], center2[1], axis_lengths[0], axis_lengths[1], shape=image.shape)\n",
    "image[rr, cc] = 255  # Black color for the ellipse\n",
    "\n",
    "rr, cc = ellipse(center2[0] + 30, center2[1] - 40, 10, 10, shape=image.shape) # size - (10, 10) - (\n",
    "image[rr, cc] = 0  # Black color for the ellipse\n",
    "\n",
    "# Display the image using matplotlib\n",
    "plt.imshow(image, cmap='gray')\n",
    "plt.axis('off')  # Turn off axis for better visualization\n",
    "plt.show()\n",
    "\n",
    "# Optionally, save the image\n",
    "# plt.imsave('ellipse_skimage.png', image, cmap='gray')\n"
   ]
  },
  {
   "cell_type": "code",
   "execution_count": 118,
   "id": "54891c3e-b840-4e09-a735-beec1406a8c6",
   "metadata": {
    "execution": {
     "iopub.execute_input": "2024-11-06T16:44:08.079686Z",
     "iopub.status.busy": "2024-11-06T16:44:08.079284Z",
     "iopub.status.idle": "2024-11-06T16:44:08.192153Z",
     "shell.execute_reply": "2024-11-06T16:44:08.191326Z",
     "shell.execute_reply.started": "2024-11-06T16:44:08.079659Z"
    }
   },
   "outputs": [
    {
     "data": {
      "text/plain": [
       "<matplotlib.image.AxesImage at 0x7c6eb6f57760>"
      ]
     },
     "execution_count": 118,
     "metadata": {},
     "output_type": "execute_result"
    },
    {
     "data": {
      "image/png": "[encoded data removed]",
      "text/plain": [
       "<Figure size 432x288 with 1 Axes>"
      ]
     },
     "metadata": {
      "needs_background": "light"
     },
     "output_type": "display_data"
    }
   ],
   "source": [
    "import random\n",
    "import matplotlib.pyplot as plt\n",
    "import numpy as np\n",
    "from skimage.draw import ellipse\n",
    "\n",
    "def create_artificial_lungs(min_r, max_r, min_c, max_c, width=256, height=256):\n",
    "    img = np.zeros((height, width), dtype=np.uint8)\n",
    "    r1 = random.randint(min_r, max_r)\n",
    "    c1 = random.randint(min_c, max_c)\n",
    "    y1, x1 = height / 2, width / 2\n",
    "    rr, cc = ellipse(y1, x1, r1, c1, shape=img.shape)\n",
    "    img[rr, cc] = 255\n",
    "    return img\n",
    "    \n",
    "min_r = 90\n",
    "max_r = 110\n",
    "min_c = 50\n",
    "max_c = 70\n",
    "min_d_coeff = 1.1\n",
    "max_d_coeff = 1.2\n",
    "\n",
    "plt.imshow(create_artificial_lungs(min_r, max_r, min_c, max_c))"
   ]
  },
  {
   "cell_type": "code",
   "execution_count": 145,
   "id": "944e7609-3bdf-416f-b041-3734ed2608a5",
   "metadata": {
    "execution": {
     "iopub.execute_input": "2024-11-06T16:45:14.908265Z",
     "iopub.status.busy": "2024-11-06T16:45:14.907479Z",
     "iopub.status.idle": "2024-11-06T16:45:15.012091Z",
     "shell.execute_reply": "2024-11-06T16:45:15.011391Z",
     "shell.execute_reply.started": "2024-11-06T16:45:14.908227Z"
    }
   },
   "outputs": [
    {
     "data": {
      "text/plain": [
       "<matplotlib.image.AxesImage at 0x7c6eb651e080>"
      ]
     },
     "execution_count": 145,
     "metadata": {},
     "output_type": "execute_result"
    },
    {
     "data": {
      "image/png": "[encoded data removed]",
      "text/plain": [
       "<Figure size 432x288 with 1 Axes>"
      ]
     },
     "metadata": {
      "needs_background": "light"
     },
     "output_type": "display_data"
    }
   ],
   "source": [
    "example_img = create_artificial_lungs(min_r, max_r, min_c, max_c)\n",
    "\n",
    "def add_random_holes(img, min_num_of_holes, max_num_of_holes, min_size, max_size, min_dx, max_dx, min_dy, max_dy, width=256, height=256):\n",
    "    num_of_holes = random.randint(min_num_of_holes, max_num_of_holes)\n",
    "    for _ in range(num_of_holes):\n",
    "        size = random.randint(min_size, max_size)\n",
    "        dx = random.randint(min_dx, max_dx)\n",
    "        dy = random.randint(min_dy, max_dy)\n",
    "        y = height / 2 - dy\n",
    "        x = width / 2 - dx\n",
    "        rr, cc = ellipse(y, x, size, size, shape=img.shape)\n",
    "        img[rr, cc] = 0\n",
    "    return img\n",
    "\n",
    "img = add_random_holes(example_img, 1, 4, 10, 40, -60, 60, -25, 25)\n",
    "plt.gray()\n",
    "plt.imshow(img)\n",
    "        "
   ]
  }
 ],
 "metadata": {
  "kernelspec": {
   "display_name": "Python 3 (ipykernel)",
   "language": "python",
   "name": "python3"
  },
  "language_info": {
   "codemirror_mode": {
    "name": "ipython",
    "version": 3
   },
   "file_extension": ".py",
   "mimetype": "text/x-python",
   "name": "python",
   "nbconvert_exporter": "python",
   "pygments_lexer": "ipython3",
   "version": "3.10.12"
  }
 },
 "nbformat": 4,
 "nbformat_minor": 5
}
